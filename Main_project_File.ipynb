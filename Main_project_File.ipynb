{
 "cells": [
  {
   "cell_type": "markdown",
   "id": "96235f8d8fd6e9e4",
   "metadata": {
    "collapsed": false,
    "id": "96235f8d8fd6e9e4"
   },
   "source": [
    "# **_Fake News Detection Project_**\n",
    "\n",
    "## **Name : Indrajith M P**\n"
   ]
  },
  {
   "cell_type": "markdown",
   "id": "95f39baf79c8bdb5",
   "metadata": {
    "collapsed": false,
    "id": "95f39baf79c8bdb5"
   },
   "source": [
    "### This project aims to build a fake news detection system using datasets from two different sources: an international news dataset and an Indian news dataset. The goal is to combine these datasets and prepare them for further analysis and model training. Combining and preparing these datasets will provide a comprehensive foundation for further analysis and model training, ultimately contributing to the fight against the spread of false information.\n",
    "\n",
    "---\n",
    "\n",
    "**Reference:** <br>\n",
    "International News Dataset : [International real and fake News](https://www.kaggle.com/datasets/emineyetm/fake-news-detection-datasets) <br>\n",
    "Indian News Dataset : [Indian fake and real news](https://www.kaggle.com/datasets/sonalgarg174/ifnd-dataset)\n",
    "\n",
    "---\n"
   ]
  },
  {
   "cell_type": "markdown",
   "id": "u4IXovRyVhdZ",
   "metadata": {
    "id": "u4IXovRyVhdZ"
   },
   "source": [
    "# **Step I. Data Loading, Preprocessing, Merging, and Final Dataset Preparation**\n"
   ]
  },
  {
   "cell_type": "markdown",
   "id": "a8c8a7b8503dd50d",
   "metadata": {
    "collapsed": false,
    "id": "a8c8a7b8503dd50d"
   },
   "source": [
    "#### We start by importing the pandas library, which we'll use for data manipulation and analysis.\n"
   ]
  },
  {
   "cell_type": "code",
   "execution_count": 2,
   "id": "initial_id",
   "metadata": {
    "collapsed": true,
    "id": "initial_id",
    "ExecuteTime": {
     "end_time": "2024-10-01T05:29:16.723078Z",
     "start_time": "2024-10-01T05:29:16.717449Z"
    }
   },
   "outputs": [],
   "source": [
    "import pandas as pd"
   ]
  },
  {
   "cell_type": "markdown",
   "id": "c475224c8809e736",
   "metadata": {
    "collapsed": false,
    "id": "c475224c8809e736"
   },
   "source": [
    "## <u>**Loading and preprocessing the International News Datasets**</u>\n"
   ]
  },
  {
   "cell_type": "markdown",
   "id": "2d582fada9a2a748",
   "metadata": {
    "collapsed": false,
    "id": "2d582fada9a2a748"
   },
   "source": [
    "### Here, we load two CSV files from the international news dataset:\n",
    "\n",
    "#### - 'True.csv': Contains true news articles\n",
    "\n",
    "#### - 'Fake.csv': Contains fake news articles\n",
    "\n",
    "### Let's examine the structure of these dataframes:\n"
   ]
  },
  {
   "cell_type": "code",
   "outputs": [
    {
     "name": "stdout",
     "output_type": "stream",
     "text": [
      "Dataset URL: https://www.kaggle.com/datasets/clmentbisaillon/fake-and-real-news-dataset\n",
      "Dataset URL: https://www.kaggle.com/datasets/clmentbisaillon/fake-and-real-news-dataset\n"
     ]
    },
    {
     "ename": "FileNotFoundError",
     "evalue": "[Errno 2] No such file or directory: 'True.csv'",
     "output_type": "error",
     "traceback": [
      "\u001B[1;31m---------------------------------------------------------------------------\u001B[0m",
      "\u001B[1;31mFileNotFoundError\u001B[0m                         Traceback (most recent call last)",
      "Cell \u001B[1;32mIn[4], line 18\u001B[0m\n\u001B[0;32m     15\u001B[0m api\u001B[38;5;241m.\u001B[39mdataset_download_file(dataset_name, \u001B[38;5;124m\"\u001B[39m\u001B[38;5;124mFake.csv\u001B[39m\u001B[38;5;124m\"\u001B[39m)\n\u001B[0;32m     17\u001B[0m \u001B[38;5;66;03m# Read files into Pandas\u001B[39;00m\n\u001B[1;32m---> 18\u001B[0m df_true \u001B[38;5;241m=\u001B[39m \u001B[43mpd\u001B[49m\u001B[38;5;241;43m.\u001B[39;49m\u001B[43mread_csv\u001B[49m\u001B[43m(\u001B[49m\u001B[38;5;124;43m\"\u001B[39;49m\u001B[38;5;124;43mTrue.csv\u001B[39;49m\u001B[38;5;124;43m\"\u001B[39;49m\u001B[43m)\u001B[49m\n\u001B[0;32m     19\u001B[0m df_fake \u001B[38;5;241m=\u001B[39m pd\u001B[38;5;241m.\u001B[39mread_csv(\u001B[38;5;124m\"\u001B[39m\u001B[38;5;124mFake.csv\u001B[39m\u001B[38;5;124m\"\u001B[39m)\n\u001B[0;32m     21\u001B[0m \u001B[38;5;66;03m# Display samples\u001B[39;00m\n",
      "File \u001B[1;32m~\\AppData\\Local\\Programs\\Python\\Python310\\lib\\site-packages\\pandas\\io\\parsers\\readers.py:948\u001B[0m, in \u001B[0;36mread_csv\u001B[1;34m(filepath_or_buffer, sep, delimiter, header, names, index_col, usecols, dtype, engine, converters, true_values, false_values, skipinitialspace, skiprows, skipfooter, nrows, na_values, keep_default_na, na_filter, verbose, skip_blank_lines, parse_dates, infer_datetime_format, keep_date_col, date_parser, date_format, dayfirst, cache_dates, iterator, chunksize, compression, thousands, decimal, lineterminator, quotechar, quoting, doublequote, escapechar, comment, encoding, encoding_errors, dialect, on_bad_lines, delim_whitespace, low_memory, memory_map, float_precision, storage_options, dtype_backend)\u001B[0m\n\u001B[0;32m    935\u001B[0m kwds_defaults \u001B[38;5;241m=\u001B[39m _refine_defaults_read(\n\u001B[0;32m    936\u001B[0m     dialect,\n\u001B[0;32m    937\u001B[0m     delimiter,\n\u001B[1;32m   (...)\u001B[0m\n\u001B[0;32m    944\u001B[0m     dtype_backend\u001B[38;5;241m=\u001B[39mdtype_backend,\n\u001B[0;32m    945\u001B[0m )\n\u001B[0;32m    946\u001B[0m kwds\u001B[38;5;241m.\u001B[39mupdate(kwds_defaults)\n\u001B[1;32m--> 948\u001B[0m \u001B[38;5;28;01mreturn\u001B[39;00m \u001B[43m_read\u001B[49m\u001B[43m(\u001B[49m\u001B[43mfilepath_or_buffer\u001B[49m\u001B[43m,\u001B[49m\u001B[43m \u001B[49m\u001B[43mkwds\u001B[49m\u001B[43m)\u001B[49m\n",
      "File \u001B[1;32m~\\AppData\\Local\\Programs\\Python\\Python310\\lib\\site-packages\\pandas\\io\\parsers\\readers.py:611\u001B[0m, in \u001B[0;36m_read\u001B[1;34m(filepath_or_buffer, kwds)\u001B[0m\n\u001B[0;32m    608\u001B[0m _validate_names(kwds\u001B[38;5;241m.\u001B[39mget(\u001B[38;5;124m\"\u001B[39m\u001B[38;5;124mnames\u001B[39m\u001B[38;5;124m\"\u001B[39m, \u001B[38;5;28;01mNone\u001B[39;00m))\n\u001B[0;32m    610\u001B[0m \u001B[38;5;66;03m# Create the parser.\u001B[39;00m\n\u001B[1;32m--> 611\u001B[0m parser \u001B[38;5;241m=\u001B[39m TextFileReader(filepath_or_buffer, \u001B[38;5;241m*\u001B[39m\u001B[38;5;241m*\u001B[39mkwds)\n\u001B[0;32m    613\u001B[0m \u001B[38;5;28;01mif\u001B[39;00m chunksize \u001B[38;5;129;01mor\u001B[39;00m iterator:\n\u001B[0;32m    614\u001B[0m     \u001B[38;5;28;01mreturn\u001B[39;00m parser\n",
      "File \u001B[1;32m~\\AppData\\Local\\Programs\\Python\\Python310\\lib\\site-packages\\pandas\\io\\parsers\\readers.py:1448\u001B[0m, in \u001B[0;36mTextFileReader.__init__\u001B[1;34m(self, f, engine, **kwds)\u001B[0m\n\u001B[0;32m   1445\u001B[0m     \u001B[38;5;28mself\u001B[39m\u001B[38;5;241m.\u001B[39moptions[\u001B[38;5;124m\"\u001B[39m\u001B[38;5;124mhas_index_names\u001B[39m\u001B[38;5;124m\"\u001B[39m] \u001B[38;5;241m=\u001B[39m kwds[\u001B[38;5;124m\"\u001B[39m\u001B[38;5;124mhas_index_names\u001B[39m\u001B[38;5;124m\"\u001B[39m]\n\u001B[0;32m   1447\u001B[0m \u001B[38;5;28mself\u001B[39m\u001B[38;5;241m.\u001B[39mhandles: IOHandles \u001B[38;5;241m|\u001B[39m \u001B[38;5;28;01mNone\u001B[39;00m \u001B[38;5;241m=\u001B[39m \u001B[38;5;28;01mNone\u001B[39;00m\n\u001B[1;32m-> 1448\u001B[0m \u001B[38;5;28mself\u001B[39m\u001B[38;5;241m.\u001B[39m_engine \u001B[38;5;241m=\u001B[39m \u001B[38;5;28;43mself\u001B[39;49m\u001B[38;5;241;43m.\u001B[39;49m\u001B[43m_make_engine\u001B[49m\u001B[43m(\u001B[49m\u001B[43mf\u001B[49m\u001B[43m,\u001B[49m\u001B[43m \u001B[49m\u001B[38;5;28;43mself\u001B[39;49m\u001B[38;5;241;43m.\u001B[39;49m\u001B[43mengine\u001B[49m\u001B[43m)\u001B[49m\n",
      "File \u001B[1;32m~\\AppData\\Local\\Programs\\Python\\Python310\\lib\\site-packages\\pandas\\io\\parsers\\readers.py:1705\u001B[0m, in \u001B[0;36mTextFileReader._make_engine\u001B[1;34m(self, f, engine)\u001B[0m\n\u001B[0;32m   1703\u001B[0m     \u001B[38;5;28;01mif\u001B[39;00m \u001B[38;5;124m\"\u001B[39m\u001B[38;5;124mb\u001B[39m\u001B[38;5;124m\"\u001B[39m \u001B[38;5;129;01mnot\u001B[39;00m \u001B[38;5;129;01min\u001B[39;00m mode:\n\u001B[0;32m   1704\u001B[0m         mode \u001B[38;5;241m+\u001B[39m\u001B[38;5;241m=\u001B[39m \u001B[38;5;124m\"\u001B[39m\u001B[38;5;124mb\u001B[39m\u001B[38;5;124m\"\u001B[39m\n\u001B[1;32m-> 1705\u001B[0m \u001B[38;5;28mself\u001B[39m\u001B[38;5;241m.\u001B[39mhandles \u001B[38;5;241m=\u001B[39m \u001B[43mget_handle\u001B[49m\u001B[43m(\u001B[49m\n\u001B[0;32m   1706\u001B[0m \u001B[43m    \u001B[49m\u001B[43mf\u001B[49m\u001B[43m,\u001B[49m\n\u001B[0;32m   1707\u001B[0m \u001B[43m    \u001B[49m\u001B[43mmode\u001B[49m\u001B[43m,\u001B[49m\n\u001B[0;32m   1708\u001B[0m \u001B[43m    \u001B[49m\u001B[43mencoding\u001B[49m\u001B[38;5;241;43m=\u001B[39;49m\u001B[38;5;28;43mself\u001B[39;49m\u001B[38;5;241;43m.\u001B[39;49m\u001B[43moptions\u001B[49m\u001B[38;5;241;43m.\u001B[39;49m\u001B[43mget\u001B[49m\u001B[43m(\u001B[49m\u001B[38;5;124;43m\"\u001B[39;49m\u001B[38;5;124;43mencoding\u001B[39;49m\u001B[38;5;124;43m\"\u001B[39;49m\u001B[43m,\u001B[49m\u001B[43m \u001B[49m\u001B[38;5;28;43;01mNone\u001B[39;49;00m\u001B[43m)\u001B[49m\u001B[43m,\u001B[49m\n\u001B[0;32m   1709\u001B[0m \u001B[43m    \u001B[49m\u001B[43mcompression\u001B[49m\u001B[38;5;241;43m=\u001B[39;49m\u001B[38;5;28;43mself\u001B[39;49m\u001B[38;5;241;43m.\u001B[39;49m\u001B[43moptions\u001B[49m\u001B[38;5;241;43m.\u001B[39;49m\u001B[43mget\u001B[49m\u001B[43m(\u001B[49m\u001B[38;5;124;43m\"\u001B[39;49m\u001B[38;5;124;43mcompression\u001B[39;49m\u001B[38;5;124;43m\"\u001B[39;49m\u001B[43m,\u001B[49m\u001B[43m \u001B[49m\u001B[38;5;28;43;01mNone\u001B[39;49;00m\u001B[43m)\u001B[49m\u001B[43m,\u001B[49m\n\u001B[0;32m   1710\u001B[0m \u001B[43m    \u001B[49m\u001B[43mmemory_map\u001B[49m\u001B[38;5;241;43m=\u001B[39;49m\u001B[38;5;28;43mself\u001B[39;49m\u001B[38;5;241;43m.\u001B[39;49m\u001B[43moptions\u001B[49m\u001B[38;5;241;43m.\u001B[39;49m\u001B[43mget\u001B[49m\u001B[43m(\u001B[49m\u001B[38;5;124;43m\"\u001B[39;49m\u001B[38;5;124;43mmemory_map\u001B[39;49m\u001B[38;5;124;43m\"\u001B[39;49m\u001B[43m,\u001B[49m\u001B[43m \u001B[49m\u001B[38;5;28;43;01mFalse\u001B[39;49;00m\u001B[43m)\u001B[49m\u001B[43m,\u001B[49m\n\u001B[0;32m   1711\u001B[0m \u001B[43m    \u001B[49m\u001B[43mis_text\u001B[49m\u001B[38;5;241;43m=\u001B[39;49m\u001B[43mis_text\u001B[49m\u001B[43m,\u001B[49m\n\u001B[0;32m   1712\u001B[0m \u001B[43m    \u001B[49m\u001B[43merrors\u001B[49m\u001B[38;5;241;43m=\u001B[39;49m\u001B[38;5;28;43mself\u001B[39;49m\u001B[38;5;241;43m.\u001B[39;49m\u001B[43moptions\u001B[49m\u001B[38;5;241;43m.\u001B[39;49m\u001B[43mget\u001B[49m\u001B[43m(\u001B[49m\u001B[38;5;124;43m\"\u001B[39;49m\u001B[38;5;124;43mencoding_errors\u001B[39;49m\u001B[38;5;124;43m\"\u001B[39;49m\u001B[43m,\u001B[49m\u001B[43m \u001B[49m\u001B[38;5;124;43m\"\u001B[39;49m\u001B[38;5;124;43mstrict\u001B[39;49m\u001B[38;5;124;43m\"\u001B[39;49m\u001B[43m)\u001B[49m\u001B[43m,\u001B[49m\n\u001B[0;32m   1713\u001B[0m \u001B[43m    \u001B[49m\u001B[43mstorage_options\u001B[49m\u001B[38;5;241;43m=\u001B[39;49m\u001B[38;5;28;43mself\u001B[39;49m\u001B[38;5;241;43m.\u001B[39;49m\u001B[43moptions\u001B[49m\u001B[38;5;241;43m.\u001B[39;49m\u001B[43mget\u001B[49m\u001B[43m(\u001B[49m\u001B[38;5;124;43m\"\u001B[39;49m\u001B[38;5;124;43mstorage_options\u001B[39;49m\u001B[38;5;124;43m\"\u001B[39;49m\u001B[43m,\u001B[49m\u001B[43m \u001B[49m\u001B[38;5;28;43;01mNone\u001B[39;49;00m\u001B[43m)\u001B[49m\u001B[43m,\u001B[49m\n\u001B[0;32m   1714\u001B[0m \u001B[43m\u001B[49m\u001B[43m)\u001B[49m\n\u001B[0;32m   1715\u001B[0m \u001B[38;5;28;01massert\u001B[39;00m \u001B[38;5;28mself\u001B[39m\u001B[38;5;241m.\u001B[39mhandles \u001B[38;5;129;01mis\u001B[39;00m \u001B[38;5;129;01mnot\u001B[39;00m \u001B[38;5;28;01mNone\u001B[39;00m\n\u001B[0;32m   1716\u001B[0m f \u001B[38;5;241m=\u001B[39m \u001B[38;5;28mself\u001B[39m\u001B[38;5;241m.\u001B[39mhandles\u001B[38;5;241m.\u001B[39mhandle\n",
      "File \u001B[1;32m~\\AppData\\Local\\Programs\\Python\\Python310\\lib\\site-packages\\pandas\\io\\common.py:863\u001B[0m, in \u001B[0;36mget_handle\u001B[1;34m(path_or_buf, mode, encoding, compression, memory_map, is_text, errors, storage_options)\u001B[0m\n\u001B[0;32m    858\u001B[0m \u001B[38;5;28;01melif\u001B[39;00m \u001B[38;5;28misinstance\u001B[39m(handle, \u001B[38;5;28mstr\u001B[39m):\n\u001B[0;32m    859\u001B[0m     \u001B[38;5;66;03m# Check whether the filename is to be opened in binary mode.\u001B[39;00m\n\u001B[0;32m    860\u001B[0m     \u001B[38;5;66;03m# Binary mode does not support 'encoding' and 'newline'.\u001B[39;00m\n\u001B[0;32m    861\u001B[0m     \u001B[38;5;28;01mif\u001B[39;00m ioargs\u001B[38;5;241m.\u001B[39mencoding \u001B[38;5;129;01mand\u001B[39;00m \u001B[38;5;124m\"\u001B[39m\u001B[38;5;124mb\u001B[39m\u001B[38;5;124m\"\u001B[39m \u001B[38;5;129;01mnot\u001B[39;00m \u001B[38;5;129;01min\u001B[39;00m ioargs\u001B[38;5;241m.\u001B[39mmode:\n\u001B[0;32m    862\u001B[0m         \u001B[38;5;66;03m# Encoding\u001B[39;00m\n\u001B[1;32m--> 863\u001B[0m         handle \u001B[38;5;241m=\u001B[39m \u001B[38;5;28;43mopen\u001B[39;49m\u001B[43m(\u001B[49m\n\u001B[0;32m    864\u001B[0m \u001B[43m            \u001B[49m\u001B[43mhandle\u001B[49m\u001B[43m,\u001B[49m\n\u001B[0;32m    865\u001B[0m \u001B[43m            \u001B[49m\u001B[43mioargs\u001B[49m\u001B[38;5;241;43m.\u001B[39;49m\u001B[43mmode\u001B[49m\u001B[43m,\u001B[49m\n\u001B[0;32m    866\u001B[0m \u001B[43m            \u001B[49m\u001B[43mencoding\u001B[49m\u001B[38;5;241;43m=\u001B[39;49m\u001B[43mioargs\u001B[49m\u001B[38;5;241;43m.\u001B[39;49m\u001B[43mencoding\u001B[49m\u001B[43m,\u001B[49m\n\u001B[0;32m    867\u001B[0m \u001B[43m            \u001B[49m\u001B[43merrors\u001B[49m\u001B[38;5;241;43m=\u001B[39;49m\u001B[43merrors\u001B[49m\u001B[43m,\u001B[49m\n\u001B[0;32m    868\u001B[0m \u001B[43m            \u001B[49m\u001B[43mnewline\u001B[49m\u001B[38;5;241;43m=\u001B[39;49m\u001B[38;5;124;43m\"\u001B[39;49m\u001B[38;5;124;43m\"\u001B[39;49m\u001B[43m,\u001B[49m\n\u001B[0;32m    869\u001B[0m \u001B[43m        \u001B[49m\u001B[43m)\u001B[49m\n\u001B[0;32m    870\u001B[0m     \u001B[38;5;28;01melse\u001B[39;00m:\n\u001B[0;32m    871\u001B[0m         \u001B[38;5;66;03m# Binary mode\u001B[39;00m\n\u001B[0;32m    872\u001B[0m         handle \u001B[38;5;241m=\u001B[39m \u001B[38;5;28mopen\u001B[39m(handle, ioargs\u001B[38;5;241m.\u001B[39mmode)\n",
      "\u001B[1;31mFileNotFoundError\u001B[0m: [Errno 2] No such file or directory: 'True.csv'"
     ]
    }
   ],
   "source": [
    "import os\n",
    "import pandas as pd\n",
    "from kaggle.api.kaggle_api_extended import KaggleApi\n",
    "\n",
    "# Set up Kaggle API authentication\n",
    "os.environ[\"KAGGLE_CONFIG_DIR\"] = \".\"  # Assumes kaggle.json is in the current directory\n",
    "\n",
    "api = KaggleApi()\n",
    "api.authenticate()\n",
    "\n",
    "dataset_name = \"clmentbisaillon/fake-and-real-news-dataset\"\n",
    "\n",
    "# Ensure the dataset is downloaded\n",
    "api.dataset_download_file(dataset_name, \"True.csv\")\n",
    "api.dataset_download_file(dataset_name, \"Fake.csv\")\n",
    "\n",
    "# Read files into Pandas\n",
    "df_true = pd.read_csv(\"True.csv\")\n",
    "df_fake = pd.read_csv(\"Fake.csv\")\n",
    "\n",
    "# Display samples\n",
    "print(\"Sample of True.csv:\\n\", df_true.head())\n",
    "print(\"\\nSample of Fake.csv:\\n\", df_fake.head())"
   ],
   "metadata": {
    "collapsed": false,
    "ExecuteTime": {
     "end_time": "2025-02-03T08:48:28.756402Z",
     "start_time": "2025-02-03T08:48:26.131457Z"
    }
   },
   "id": "504b470e0df77e75",
   "execution_count": 4
  },
  {
   "cell_type": "code",
   "outputs": [],
   "source": [
    "dataset_name = \"clmentbisaillon/fake-and-real-news-dataset\""
   ],
   "metadata": {
    "collapsed": false,
    "ExecuteTime": {
     "end_time": "2025-02-03T08:47:30.644588Z",
     "start_time": "2025-02-03T08:47:30.624516Z"
    }
   },
   "id": "2a2ebe540ab0ccd6",
   "execution_count": 2
  },
  {
   "cell_type": "code",
   "execution_count": 3,
   "id": "d9b22284512bda7",
   "metadata": {
    "id": "d9b22284512bda7",
    "ExecuteTime": {
     "end_time": "2025-02-03T08:47:50.663062Z",
     "start_time": "2025-02-03T08:47:49.168042Z"
    }
   },
   "outputs": [
    {
     "name": "stdout",
     "output_type": "stream",
     "text": [
      "Dataset URL: https://www.kaggle.com/datasets/clmentbisaillon/fake-and-real-news-dataset\n"
     ]
    },
    {
     "ename": "TypeError",
     "evalue": "a bytes-like object is required, not 'bool'",
     "output_type": "error",
     "traceback": [
      "\u001B[1;31m---------------------------------------------------------------------------\u001B[0m",
      "\u001B[1;31mTypeError\u001B[0m                                 Traceback (most recent call last)",
      "Cell \u001B[1;32mIn[3], line 3\u001B[0m\n\u001B[0;32m      1\u001B[0m \u001B[38;5;66;03m# Download and read `True.csv` directly\u001B[39;00m\n\u001B[0;32m      2\u001B[0m true_data \u001B[38;5;241m=\u001B[39m api\u001B[38;5;241m.\u001B[39mdataset_download_file(dataset_name, \u001B[38;5;124m\"\u001B[39m\u001B[38;5;124mTrue.csv\u001B[39m\u001B[38;5;124m\"\u001B[39m)\n\u001B[1;32m----> 3\u001B[0m df1 \u001B[38;5;241m=\u001B[39m pd\u001B[38;5;241m.\u001B[39mread_csv(\u001B[43mBytesIO\u001B[49m\u001B[43m(\u001B[49m\u001B[43mtrue_data\u001B[49m\u001B[43m)\u001B[49m)\n\u001B[0;32m      4\u001B[0m \u001B[38;5;28mprint\u001B[39m(\u001B[38;5;124m\"\u001B[39m\u001B[38;5;124mSample of True.csv:\u001B[39m\u001B[38;5;130;01m\\n\u001B[39;00m\u001B[38;5;124m\"\u001B[39m, df1\u001B[38;5;241m.\u001B[39mhead())\n",
      "\u001B[1;31mTypeError\u001B[0m: a bytes-like object is required, not 'bool'"
     ]
    }
   ],
   "source": [
    "# Download and read `True.csv` directly\n",
    "true_data = api.dataset_download_file(dataset_name, \"True.csv\")\n",
    "df1 = pd.read_csv(BytesIO(true_data))\n",
    "print(\"Sample of True.csv:\\n\", df1.head())"
   ]
  },
  {
   "cell_type": "code",
   "outputs": [
    {
     "ename": "TypeError",
     "evalue": "a bytes-like object is required, not 'bool'",
     "output_type": "error",
     "traceback": [
      "\u001B[1;31m---------------------------------------------------------------------------\u001B[0m",
      "\u001B[1;31mTypeError\u001B[0m                                 Traceback (most recent call last)",
      "Cell \u001B[1;32mIn[13], line 2\u001B[0m\n\u001B[0;32m      1\u001B[0m \u001B[38;5;66;03m# Read into Pandas DataFrame\u001B[39;00m\n\u001B[1;32m----> 2\u001B[0m fake_news_df \u001B[38;5;241m=\u001B[39m pd\u001B[38;5;241m.\u001B[39mread_csv(\u001B[43mio\u001B[49m\u001B[38;5;241;43m.\u001B[39;49m\u001B[43mBytesIO\u001B[49m\u001B[43m(\u001B[49m\u001B[43mfake_news_csv\u001B[49m\u001B[43m)\u001B[49m, encoding\u001B[38;5;241m=\u001B[39m\u001B[38;5;124m\"\u001B[39m\u001B[38;5;124mutf-8\u001B[39m\u001B[38;5;124m\"\u001B[39m)\n\u001B[0;32m      3\u001B[0m real_news_df \u001B[38;5;241m=\u001B[39m pd\u001B[38;5;241m.\u001B[39mread_csv(io\u001B[38;5;241m.\u001B[39mBytesIO(real_news_csv), encoding\u001B[38;5;241m=\u001B[39m\u001B[38;5;124m\"\u001B[39m\u001B[38;5;124mutf-8\u001B[39m\u001B[38;5;124m\"\u001B[39m)\n",
      "\u001B[1;31mTypeError\u001B[0m: a bytes-like object is required, not 'bool'"
     ]
    }
   ],
   "source": [
    "# Read into Pandas DataFrame\n",
    "fake_news_df = pd.read_csv(io.BytesIO(fake_news_csv), encoding=\"utf-8\")\n",
    "real_news_df = pd.read_csv(io.BytesIO(real_news_csv), encoding=\"utf-8\")"
   ],
   "metadata": {
    "collapsed": false,
    "ExecuteTime": {
     "end_time": "2025-02-03T07:27:06.663729Z",
     "start_time": "2025-02-03T07:27:06.622708Z"
    }
   },
   "id": "b8d67a5f0085f665",
   "execution_count": 13
  },
  {
   "cell_type": "code",
   "execution_count": 8,
   "id": "45f2d16c31d4e7ad",
   "metadata": {
    "colab": {
     "base_uri": "https://localhost:8080/",
     "height": 206
    },
    "id": "45f2d16c31d4e7ad",
    "outputId": "c7e992f3-8a57-42d2-bd03-07d6b4376eca",
    "ExecuteTime": {
     "end_time": "2025-02-03T07:25:49.625969Z",
     "start_time": "2025-02-03T07:25:49.583863Z"
    }
   },
   "outputs": [
    {
     "ename": "AttributeError",
     "evalue": "'bool' object has no attribute 'head'",
     "output_type": "error",
     "traceback": [
      "\u001B[1;31m---------------------------------------------------------------------------\u001B[0m",
      "\u001B[1;31mAttributeError\u001B[0m                            Traceback (most recent call last)",
      "Cell \u001B[1;32mIn[8], line 1\u001B[0m\n\u001B[1;32m----> 1\u001B[0m \u001B[43mdf1\u001B[49m\u001B[38;5;241;43m.\u001B[39;49m\u001B[43mhead\u001B[49m()\n",
      "\u001B[1;31mAttributeError\u001B[0m: 'bool' object has no attribute 'head'"
     ]
    }
   ],
   "source": [
    "df1.head()"
   ]
  },
  {
   "cell_type": "code",
   "execution_count": 5,
   "id": "7e561c54d9fd2815",
   "metadata": {
    "colab": {
     "base_uri": "https://localhost:8080/",
     "height": 206
    },
    "id": "7e561c54d9fd2815",
    "outputId": "80887ee9-e0af-449d-da43-fab0a56d3ac0",
    "ExecuteTime": {
     "end_time": "2024-10-01T05:29:18.775788Z",
     "start_time": "2024-10-01T05:29:18.761803Z"
    }
   },
   "outputs": [
    {
     "data": {
      "text/plain": "                                               title  \\\n0   Donald Trump Sends Out Embarrassing New Year’...   \n1   Drunk Bragging Trump Staffer Started Russian ...   \n2   Sheriff David Clarke Becomes An Internet Joke...   \n3   Trump Is So Obsessed He Even Has Obama’s Name...   \n4   Pope Francis Just Called Out Donald Trump Dur...   \n\n                                                text subject  \\\n0  Donald Trump just couldn t wish all Americans ...    News   \n1  House Intelligence Committee Chairman Devin Nu...    News   \n2  On Friday, it was revealed that former Milwauk...    News   \n3  On Christmas day, Donald Trump announced that ...    News   \n4  Pope Francis used his annual Christmas Day mes...    News   \n\n                date  \n0  December 31, 2017  \n1  December 31, 2017  \n2  December 30, 2017  \n3  December 29, 2017  \n4  December 25, 2017  ",
      "text/html": "<div>\n<style scoped>\n    .dataframe tbody tr th:only-of-type {\n        vertical-align: middle;\n    }\n\n    .dataframe tbody tr th {\n        vertical-align: top;\n    }\n\n    .dataframe thead th {\n        text-align: right;\n    }\n</style>\n<table border=\"1\" class=\"dataframe\">\n  <thead>\n    <tr style=\"text-align: right;\">\n      <th></th>\n      <th>title</th>\n      <th>text</th>\n      <th>subject</th>\n      <th>date</th>\n    </tr>\n  </thead>\n  <tbody>\n    <tr>\n      <th>0</th>\n      <td>Donald Trump Sends Out Embarrassing New Year’...</td>\n      <td>Donald Trump just couldn t wish all Americans ...</td>\n      <td>News</td>\n      <td>December 31, 2017</td>\n    </tr>\n    <tr>\n      <th>1</th>\n      <td>Drunk Bragging Trump Staffer Started Russian ...</td>\n      <td>House Intelligence Committee Chairman Devin Nu...</td>\n      <td>News</td>\n      <td>December 31, 2017</td>\n    </tr>\n    <tr>\n      <th>2</th>\n      <td>Sheriff David Clarke Becomes An Internet Joke...</td>\n      <td>On Friday, it was revealed that former Milwauk...</td>\n      <td>News</td>\n      <td>December 30, 2017</td>\n    </tr>\n    <tr>\n      <th>3</th>\n      <td>Trump Is So Obsessed He Even Has Obama’s Name...</td>\n      <td>On Christmas day, Donald Trump announced that ...</td>\n      <td>News</td>\n      <td>December 29, 2017</td>\n    </tr>\n    <tr>\n      <th>4</th>\n      <td>Pope Francis Just Called Out Donald Trump Dur...</td>\n      <td>Pope Francis used his annual Christmas Day mes...</td>\n      <td>News</td>\n      <td>December 25, 2017</td>\n    </tr>\n  </tbody>\n</table>\n</div>"
     },
     "execution_count": 5,
     "metadata": {},
     "output_type": "execute_result"
    }
   ],
   "source": [
    "df2.head()"
   ]
  },
  {
   "cell_type": "markdown",
   "id": "612187dcc1f8ebca",
   "metadata": {
    "collapsed": false,
    "id": "612187dcc1f8ebca"
   },
   "source": [
    "### As we can see, both dataframes contain columns for **'title', 'text', 'subject', and 'date'**. We'll need to preprocess this data for our analysis.\n"
   ]
  },
  {
   "cell_type": "markdown",
   "id": "bc6e5df416b9d6b6",
   "metadata": {
    "collapsed": false,
    "id": "bc6e5df416b9d6b6"
   },
   "source": [
    "# Data Preprocessing for International News\n"
   ]
  },
  {
   "cell_type": "markdown",
   "id": "30cad7edfdb93d5e",
   "metadata": {
    "collapsed": false,
    "id": "30cad7edfdb93d5e"
   },
   "source": [
    "### **Adding Labels**\n",
    "\n",
    "### We'll add a 'Label' column to distinguish between true and fake news:\n",
    "\n",
    "#### - 1 for true news\n",
    "\n",
    "#### - 0 for fake news\n"
   ]
  },
  {
   "cell_type": "code",
   "execution_count": 6,
   "id": "363a73e63e92e617",
   "metadata": {
    "id": "363a73e63e92e617",
    "ExecuteTime": {
     "end_time": "2024-10-01T05:29:18.791788Z",
     "start_time": "2024-10-01T05:29:18.778789Z"
    }
   },
   "outputs": [],
   "source": [
    "df1['Label'] = 1\n",
    "df2['Label'] = 0"
   ]
  },
  {
   "cell_type": "markdown",
   "id": "d450cda04fb6ff8e",
   "metadata": {
    "collapsed": false,
    "id": "d450cda04fb6ff8e"
   },
   "source": [
    "### **Combining Title and Text**\n",
    "\n",
    "#### To create a single text field for analysis, we'll combine the 'title' and 'text' columns:\n"
   ]
  },
  {
   "cell_type": "code",
   "execution_count": 7,
   "id": "131ccca3e3757d3c",
   "metadata": {
    "id": "131ccca3e3757d3c",
    "ExecuteTime": {
     "end_time": "2024-10-01T05:29:18.934769Z",
     "start_time": "2024-10-01T05:29:18.793788Z"
    }
   },
   "outputs": [],
   "source": [
    "df1['Text'] = df1['title'] + \" \" + df1['text']\n",
    "df2['Text'] = df2['title'] + \" \" + df2['text']"
   ]
  },
  {
   "cell_type": "markdown",
   "id": "f3489b86828a6cbb",
   "metadata": {
    "collapsed": false,
    "id": "f3489b86828a6cbb"
   },
   "source": [
    "### **Removing Unnecessary Columns**\n",
    "\n",
    "#### We are dropping the columns 'subject', 'date', 'text', and 'title' from both datasets as they do not contribute to predicting whether the news is real or fake. The 'title' column has already been combined with the 'text' column to form a single 'Text' column, which will be used for analysis. This step simplifies the dataset and ensures that only relevant features are considered in the model training process.\n"
   ]
  },
  {
   "cell_type": "code",
   "execution_count": 8,
   "id": "f5f56bac140f52fa",
   "metadata": {
    "id": "f5f56bac140f52fa",
    "ExecuteTime": {
     "end_time": "2024-10-01T05:29:18.949953Z",
     "start_time": "2024-10-01T05:29:18.937129Z"
    }
   },
   "outputs": [],
   "source": [
    "df1.drop(columns=['subject','date','text','title'],inplace=True)\n",
    "df2.drop(columns=['subject','date','text','title'],inplace=True)"
   ]
  },
  {
   "cell_type": "code",
   "execution_count": 9,
   "id": "4f46ebfe03085a05",
   "metadata": {
    "colab": {
     "base_uri": "https://localhost:8080/",
     "height": 206
    },
    "id": "4f46ebfe03085a05",
    "outputId": "1747ae92-84ba-435e-9cbf-5ff87a2834a5",
    "ExecuteTime": {
     "end_time": "2024-10-01T05:29:18.965098Z",
     "start_time": "2024-10-01T05:29:18.954112Z"
    }
   },
   "outputs": [
    {
     "data": {
      "text/plain": "   Label                                               Text\n0      1  As U.S. budget fight looms, Republicans flip t...\n1      1  U.S. military to accept transgender recruits o...\n2      1  Senior U.S. Republican senator: 'Let Mr. Muell...\n3      1  FBI Russia probe helped by Australian diplomat...\n4      1  Trump wants Postal Service to charge 'much mor...",
      "text/html": "<div>\n<style scoped>\n    .dataframe tbody tr th:only-of-type {\n        vertical-align: middle;\n    }\n\n    .dataframe tbody tr th {\n        vertical-align: top;\n    }\n\n    .dataframe thead th {\n        text-align: right;\n    }\n</style>\n<table border=\"1\" class=\"dataframe\">\n  <thead>\n    <tr style=\"text-align: right;\">\n      <th></th>\n      <th>Label</th>\n      <th>Text</th>\n    </tr>\n  </thead>\n  <tbody>\n    <tr>\n      <th>0</th>\n      <td>1</td>\n      <td>As U.S. budget fight looms, Republicans flip t...</td>\n    </tr>\n    <tr>\n      <th>1</th>\n      <td>1</td>\n      <td>U.S. military to accept transgender recruits o...</td>\n    </tr>\n    <tr>\n      <th>2</th>\n      <td>1</td>\n      <td>Senior U.S. Republican senator: 'Let Mr. Muell...</td>\n    </tr>\n    <tr>\n      <th>3</th>\n      <td>1</td>\n      <td>FBI Russia probe helped by Australian diplomat...</td>\n    </tr>\n    <tr>\n      <th>4</th>\n      <td>1</td>\n      <td>Trump wants Postal Service to charge 'much mor...</td>\n    </tr>\n  </tbody>\n</table>\n</div>"
     },
     "execution_count": 9,
     "metadata": {},
     "output_type": "execute_result"
    }
   ],
   "source": [
    "df1.head()"
   ]
  },
  {
   "cell_type": "code",
   "execution_count": 10,
   "id": "9efff6e2df3d5e66",
   "metadata": {
    "colab": {
     "base_uri": "https://localhost:8080/",
     "height": 206
    },
    "id": "9efff6e2df3d5e66",
    "outputId": "d208bfe2-ab25-455c-8dc3-82529f1b9702",
    "ExecuteTime": {
     "end_time": "2024-10-01T05:29:18.980537Z",
     "start_time": "2024-10-01T05:29:18.967101Z"
    }
   },
   "outputs": [
    {
     "data": {
      "text/plain": "   Label                                               Text\n0      0   Donald Trump Sends Out Embarrassing New Year’...\n1      0   Drunk Bragging Trump Staffer Started Russian ...\n2      0   Sheriff David Clarke Becomes An Internet Joke...\n3      0   Trump Is So Obsessed He Even Has Obama’s Name...\n4      0   Pope Francis Just Called Out Donald Trump Dur...",
      "text/html": "<div>\n<style scoped>\n    .dataframe tbody tr th:only-of-type {\n        vertical-align: middle;\n    }\n\n    .dataframe tbody tr th {\n        vertical-align: top;\n    }\n\n    .dataframe thead th {\n        text-align: right;\n    }\n</style>\n<table border=\"1\" class=\"dataframe\">\n  <thead>\n    <tr style=\"text-align: right;\">\n      <th></th>\n      <th>Label</th>\n      <th>Text</th>\n    </tr>\n  </thead>\n  <tbody>\n    <tr>\n      <th>0</th>\n      <td>0</td>\n      <td>Donald Trump Sends Out Embarrassing New Year’...</td>\n    </tr>\n    <tr>\n      <th>1</th>\n      <td>0</td>\n      <td>Drunk Bragging Trump Staffer Started Russian ...</td>\n    </tr>\n    <tr>\n      <th>2</th>\n      <td>0</td>\n      <td>Sheriff David Clarke Becomes An Internet Joke...</td>\n    </tr>\n    <tr>\n      <th>3</th>\n      <td>0</td>\n      <td>Trump Is So Obsessed He Even Has Obama’s Name...</td>\n    </tr>\n    <tr>\n      <th>4</th>\n      <td>0</td>\n      <td>Pope Francis Just Called Out Donald Trump Dur...</td>\n    </tr>\n  </tbody>\n</table>\n</div>"
     },
     "execution_count": 10,
     "metadata": {},
     "output_type": "execute_result"
    }
   ],
   "source": [
    "df2.head()"
   ]
  },
  {
   "cell_type": "markdown",
   "id": "cb6e95b522d91419",
   "metadata": {
    "collapsed": false,
    "id": "cb6e95b522d91419"
   },
   "source": [
    "## **Text Cleaning**\n"
   ]
  },
  {
   "cell_type": "markdown",
   "id": "a0d38ae9b0cf6b28",
   "metadata": {
    "collapsed": false,
    "id": "a0d38ae9b0cf6b28"
   },
   "source": [
    "### This function performs the following cleaning operations:\n",
    "\n",
    "#### 1. Removes non-alphabetic characters (except spaces)\n",
    "\n",
    "#### 2. Converts text to lowercase\n",
    "\n",
    "#### 3. Removes extra whitespace\n"
   ]
  },
  {
   "cell_type": "code",
   "execution_count": 11,
   "id": "88494b1d4a1c683",
   "metadata": {
    "id": "88494b1d4a1c683",
    "ExecuteTime": {
     "end_time": "2024-10-01T05:29:18.996440Z",
     "start_time": "2024-10-01T05:29:18.984555Z"
    }
   },
   "outputs": [],
   "source": [
    "import re\n",
    "def clean_text(text):\n",
    "    # Ensure the input is a string\n",
    "    text = str(text)\n",
    "    # Remove non-alphabetic characters (excluding spaces)\n",
    "    text = re.sub(r'[^A-Za-z\\s]', '', text)\n",
    "    # Convert to lowercase\n",
    "    text = text.lower()\n",
    "    # Remove extra whitespace\n",
    "    text = ' '.join(text.split())\n",
    "    return text"
   ]
  },
  {
   "cell_type": "markdown",
   "id": "6gu_LXgAXEoN",
   "metadata": {
    "id": "6gu_LXgAXEoN"
   },
   "source": [
    "### _This function is necessary to standardize and clean the text data, ensuring consistency and improving the accuracy of the model by removing irrelevant characters, normalizing case, and eliminating redundant spaces._\n"
   ]
  },
  {
   "cell_type": "code",
   "execution_count": 12,
   "id": "5ae75234cc1a686c",
   "metadata": {
    "id": "5ae75234cc1a686c",
    "ExecuteTime": {
     "end_time": "2024-10-01T05:29:22.013919Z",
     "start_time": "2024-10-01T05:29:19.000465Z"
    }
   },
   "outputs": [],
   "source": [
    "df1['Text'] = df1['Text'].apply(clean_text)\n",
    "df2['Text'] = df2['Text'].apply(clean_text)"
   ]
  },
  {
   "cell_type": "markdown",
   "id": "3a447a2d278358b0",
   "metadata": {
    "collapsed": false,
    "id": "3a447a2d278358b0"
   },
   "source": [
    "## **<u>Loading and Preprocessing the Indian News Dataset</u>**\n"
   ]
  },
  {
   "cell_type": "code",
   "execution_count": 13,
   "id": "7396ff508024c265",
   "metadata": {
    "id": "7396ff508024c265",
    "ExecuteTime": {
     "end_time": "2024-10-01T05:29:22.108588Z",
     "start_time": "2024-10-01T05:29:22.016181Z"
    }
   },
   "outputs": [],
   "source": [
    "indian_df = pd.read_csv(\"Data/IFND.csv\")"
   ]
  },
  {
   "cell_type": "code",
   "execution_count": 14,
   "id": "5c32a63be8403e69",
   "metadata": {
    "colab": {
     "base_uri": "https://localhost:8080/",
     "height": 206
    },
    "id": "5c32a63be8403e69",
    "outputId": "24c1b190-797a-4610-cb70-404f212999a6",
    "ExecuteTime": {
     "end_time": "2024-10-01T05:29:22.124556Z",
     "start_time": "2024-10-01T05:29:22.110907Z"
    }
   },
   "outputs": [
    {
     "data": {
      "text/plain": "  Label                                          Statement\n0  TRUE  WHO praises India's Aarogya Setu app, says it ...\n1  TRUE  In Delhi, Deputy US Secretary of State Stephen...\n2  TRUE  LAC tensions: China's strategy behind delibera...\n3  TRUE  India has signed 250 documents on Space cooper...\n4  TRUE  Tamil Nadu chief minister's mother passes away...",
      "text/html": "<div>\n<style scoped>\n    .dataframe tbody tr th:only-of-type {\n        vertical-align: middle;\n    }\n\n    .dataframe tbody tr th {\n        vertical-align: top;\n    }\n\n    .dataframe thead th {\n        text-align: right;\n    }\n</style>\n<table border=\"1\" class=\"dataframe\">\n  <thead>\n    <tr style=\"text-align: right;\">\n      <th></th>\n      <th>Label</th>\n      <th>Statement</th>\n    </tr>\n  </thead>\n  <tbody>\n    <tr>\n      <th>0</th>\n      <td>TRUE</td>\n      <td>WHO praises India's Aarogya Setu app, says it ...</td>\n    </tr>\n    <tr>\n      <th>1</th>\n      <td>TRUE</td>\n      <td>In Delhi, Deputy US Secretary of State Stephen...</td>\n    </tr>\n    <tr>\n      <th>2</th>\n      <td>TRUE</td>\n      <td>LAC tensions: China's strategy behind delibera...</td>\n    </tr>\n    <tr>\n      <th>3</th>\n      <td>TRUE</td>\n      <td>India has signed 250 documents on Space cooper...</td>\n    </tr>\n    <tr>\n      <th>4</th>\n      <td>TRUE</td>\n      <td>Tamil Nadu chief minister's mother passes away...</td>\n    </tr>\n  </tbody>\n</table>\n</div>"
     },
     "execution_count": 14,
     "metadata": {},
     "output_type": "execute_result"
    }
   ],
   "source": [
    "indian_df.head()"
   ]
  },
  {
   "cell_type": "markdown",
   "id": "e10d652a06634c77",
   "metadata": {
    "collapsed": false,
    "id": "e10d652a06634c77"
   },
   "source": [
    "### The Indian news dataset has a different structure, with 'Label' and 'Statement' columns. We'll rename 'Statement' to 'Text' for consistency with our other dataset.\n"
   ]
  },
  {
   "cell_type": "code",
   "execution_count": 15,
   "id": "305a75bba6edd292",
   "metadata": {
    "id": "305a75bba6edd292",
    "ExecuteTime": {
     "end_time": "2024-10-01T05:29:22.139629Z",
     "start_time": "2024-10-01T05:29:22.126831Z"
    }
   },
   "outputs": [],
   "source": [
    "indian_df = indian_df.rename(columns={\"Statement\":\"Text\"})"
   ]
  },
  {
   "cell_type": "code",
   "execution_count": 16,
   "id": "aca819cf78066a9",
   "metadata": {
    "colab": {
     "base_uri": "https://localhost:8080/",
     "height": 206
    },
    "id": "aca819cf78066a9",
    "outputId": "3a55e106-f413-4100-e067-0c15127475d7",
    "ExecuteTime": {
     "end_time": "2024-10-01T05:29:22.155160Z",
     "start_time": "2024-10-01T05:29:22.140935Z"
    }
   },
   "outputs": [
    {
     "data": {
      "text/plain": "  Label                                               Text\n0  TRUE  WHO praises India's Aarogya Setu app, says it ...\n1  TRUE  In Delhi, Deputy US Secretary of State Stephen...\n2  TRUE  LAC tensions: China's strategy behind delibera...\n3  TRUE  India has signed 250 documents on Space cooper...\n4  TRUE  Tamil Nadu chief minister's mother passes away...",
      "text/html": "<div>\n<style scoped>\n    .dataframe tbody tr th:only-of-type {\n        vertical-align: middle;\n    }\n\n    .dataframe tbody tr th {\n        vertical-align: top;\n    }\n\n    .dataframe thead th {\n        text-align: right;\n    }\n</style>\n<table border=\"1\" class=\"dataframe\">\n  <thead>\n    <tr style=\"text-align: right;\">\n      <th></th>\n      <th>Label</th>\n      <th>Text</th>\n    </tr>\n  </thead>\n  <tbody>\n    <tr>\n      <th>0</th>\n      <td>TRUE</td>\n      <td>WHO praises India's Aarogya Setu app, says it ...</td>\n    </tr>\n    <tr>\n      <th>1</th>\n      <td>TRUE</td>\n      <td>In Delhi, Deputy US Secretary of State Stephen...</td>\n    </tr>\n    <tr>\n      <th>2</th>\n      <td>TRUE</td>\n      <td>LAC tensions: China's strategy behind delibera...</td>\n    </tr>\n    <tr>\n      <th>3</th>\n      <td>TRUE</td>\n      <td>India has signed 250 documents on Space cooper...</td>\n    </tr>\n    <tr>\n      <th>4</th>\n      <td>TRUE</td>\n      <td>Tamil Nadu chief minister's mother passes away...</td>\n    </tr>\n  </tbody>\n</table>\n</div>"
     },
     "execution_count": 16,
     "metadata": {},
     "output_type": "execute_result"
    }
   ],
   "source": [
    "indian_df.head()"
   ]
  },
  {
   "cell_type": "markdown",
   "id": "95954f1537de5cc5",
   "metadata": {
    "collapsed": false,
    "id": "95954f1537de5cc5"
   },
   "source": [
    "### **Mapping Labels**\n",
    "\n",
    "### We'll map the labels to match our international dataset:\n",
    "\n",
    "##### - 'TRUE' to 1\n",
    "\n",
    "##### - 'Fake' to 0\n"
   ]
  },
  {
   "cell_type": "code",
   "execution_count": 17,
   "id": "c338442ea5f585fc",
   "metadata": {
    "id": "c338442ea5f585fc",
    "ExecuteTime": {
     "end_time": "2024-10-01T05:29:22.170901Z",
     "start_time": "2024-10-01T05:29:22.157505Z"
    }
   },
   "outputs": [],
   "source": [
    "label_map = {\"TRUE\":1,\"Fake\":0}"
   ]
  },
  {
   "cell_type": "code",
   "execution_count": 18,
   "id": "ff2055f1b5f0d67b",
   "metadata": {
    "id": "ff2055f1b5f0d67b",
    "ExecuteTime": {
     "end_time": "2024-10-01T05:29:22.202999Z",
     "start_time": "2024-10-01T05:29:22.173310Z"
    }
   },
   "outputs": [
    {
     "name": "stderr",
     "output_type": "stream",
     "text": [
      "C:\\Users\\indra\\AppData\\Local\\Temp\\ipykernel_15632\\1848593248.py:1: FutureWarning: Downcasting behavior in `replace` is deprecated and will be removed in a future version. To retain the old behavior, explicitly call `result.infer_objects(copy=False)`. To opt-in to the future behavior, set `pd.set_option('future.no_silent_downcasting', True)`\n",
      "  indian_df[\"Label\"] = indian_df[\"Label\"].replace(label_map)\n"
     ]
    }
   ],
   "source": [
    "indian_df[\"Label\"] = indian_df[\"Label\"].replace(label_map)"
   ]
  },
  {
   "cell_type": "code",
   "execution_count": 19,
   "id": "df9fa182720ec36d",
   "metadata": {
    "colab": {
     "base_uri": "https://localhost:8080/",
     "height": 206
    },
    "id": "df9fa182720ec36d",
    "outputId": "d10c6ecf-1e63-4e5b-ef50-c95e5873dc00",
    "ExecuteTime": {
     "end_time": "2024-10-01T05:29:22.218283Z",
     "start_time": "2024-10-01T05:29:22.204196Z"
    }
   },
   "outputs": [
    {
     "data": {
      "text/plain": "   Label                                               Text\n0      1  WHO praises India's Aarogya Setu app, says it ...\n1      1  In Delhi, Deputy US Secretary of State Stephen...\n2      1  LAC tensions: China's strategy behind delibera...\n3      1  India has signed 250 documents on Space cooper...\n4      1  Tamil Nadu chief minister's mother passes away...",
      "text/html": "<div>\n<style scoped>\n    .dataframe tbody tr th:only-of-type {\n        vertical-align: middle;\n    }\n\n    .dataframe tbody tr th {\n        vertical-align: top;\n    }\n\n    .dataframe thead th {\n        text-align: right;\n    }\n</style>\n<table border=\"1\" class=\"dataframe\">\n  <thead>\n    <tr style=\"text-align: right;\">\n      <th></th>\n      <th>Label</th>\n      <th>Text</th>\n    </tr>\n  </thead>\n  <tbody>\n    <tr>\n      <th>0</th>\n      <td>1</td>\n      <td>WHO praises India's Aarogya Setu app, says it ...</td>\n    </tr>\n    <tr>\n      <th>1</th>\n      <td>1</td>\n      <td>In Delhi, Deputy US Secretary of State Stephen...</td>\n    </tr>\n    <tr>\n      <th>2</th>\n      <td>1</td>\n      <td>LAC tensions: China's strategy behind delibera...</td>\n    </tr>\n    <tr>\n      <th>3</th>\n      <td>1</td>\n      <td>India has signed 250 documents on Space cooper...</td>\n    </tr>\n    <tr>\n      <th>4</th>\n      <td>1</td>\n      <td>Tamil Nadu chief minister's mother passes away...</td>\n    </tr>\n  </tbody>\n</table>\n</div>"
     },
     "execution_count": 19,
     "metadata": {},
     "output_type": "execute_result"
    }
   ],
   "source": [
    "indian_df.head()"
   ]
  },
  {
   "cell_type": "markdown",
   "id": "857fc6da8e268e18",
   "metadata": {
    "collapsed": false,
    "id": "857fc6da8e268e18"
   },
   "source": [
    "### **Cleaning Text**\n",
    "\n",
    "### We'll apply the same text cleaning function to the Indian dataset:\n"
   ]
  },
  {
   "cell_type": "code",
   "execution_count": 20,
   "id": "d9a257b51522a8c6",
   "metadata": {
    "id": "d9a257b51522a8c6",
    "ExecuteTime": {
     "end_time": "2024-10-01T05:29:22.424522Z",
     "start_time": "2024-10-01T05:29:22.219474Z"
    }
   },
   "outputs": [],
   "source": [
    "indian_df[\"Text\"] = indian_df[\"Text\"].apply(clean_text)"
   ]
  },
  {
   "cell_type": "markdown",
   "id": "fd31675729778ffa",
   "metadata": {
    "collapsed": false,
    "id": "fd31675729778ffa"
   },
   "source": [
    "## **Combining Datasets**\n",
    "\n",
    "### Now that we have preprocessed both the international and Indian news datasets, we can combine them into a single dataset for our fake news detection project:\n"
   ]
  },
  {
   "cell_type": "code",
   "execution_count": 21,
   "id": "d5cdec843fa3eaef",
   "metadata": {
    "id": "d5cdec843fa3eaef",
    "ExecuteTime": {
     "end_time": "2024-10-01T05:29:22.440323Z",
     "start_time": "2024-10-01T05:29:22.426819Z"
    }
   },
   "outputs": [],
   "source": [
    "final_df = pd.concat([df1,df2,indian_df], ignore_index=True)"
   ]
  },
  {
   "cell_type": "markdown",
   "id": "7353e30f1d2e881a",
   "metadata": {
    "collapsed": false,
    "id": "7353e30f1d2e881a"
   },
   "source": [
    "### **Saving the Final Dataset**\n",
    "\n",
    "## Finally, we save our combined and preprocessed dataset to a CSV file for future use in our fake news detection model:\n"
   ]
  },
  {
   "cell_type": "code",
   "execution_count": 22,
   "id": "3fe9e0e70bcdcdd7",
   "metadata": {
    "id": "3fe9e0e70bcdcdd7",
    "ExecuteTime": {
     "end_time": "2024-10-01T05:29:24.816985Z",
     "start_time": "2024-10-01T05:29:22.442592Z"
    }
   },
   "outputs": [],
   "source": [
    "final_df.to_csv(\"Final_Prepared_Dataset.csv\",index=False)"
   ]
  },
  {
   "cell_type": "markdown",
   "id": "dfxWNehhYBUR",
   "metadata": {
    "id": "dfxWNehhYBUR"
   },
   "source": [
    "---\n",
    "---\n",
    "\n",
    "---\n"
   ]
  },
  {
   "cell_type": "markdown",
   "id": "12XaPilxYINH",
   "metadata": {
    "id": "12XaPilxYINH"
   },
   "source": [
    "# **Step II. Model Building and Evaluation**\n"
   ]
  },
  {
   "cell_type": "markdown",
   "id": "c100ab0478b2cc58",
   "metadata": {
    "collapsed": false,
    "id": "c100ab0478b2cc58"
   },
   "source": [
    "# Importing the necessary Libraries\n"
   ]
  },
  {
   "cell_type": "code",
   "execution_count": 23,
   "id": "89de22bcc5ddeb4c",
   "metadata": {
    "id": "89de22bcc5ddeb4c",
    "ExecuteTime": {
     "end_time": "2024-10-01T05:29:25.715168Z",
     "start_time": "2024-10-01T05:29:24.819515Z"
    }
   },
   "outputs": [],
   "source": [
    "import pandas as pd\n",
    "from sklearn.model_selection import train_test_split, GridSearchCV\n",
    "from sklearn.feature_extraction.text import TfidfVectorizer\n",
    "from sklearn import metrics\n",
    "from sklearn.metrics import accuracy_score, classification_report, confusion_matrix"
   ]
  },
  {
   "cell_type": "markdown",
   "id": "f6a87efc659b71dd",
   "metadata": {
    "collapsed": false,
    "id": "f6a87efc659b71dd"
   },
   "source": [
    "## _The final dataset contains preprocessed text data from both international and Indian news sources, with labels indicating whether each article is true (1) or fake (0)_.\n"
   ]
  },
  {
   "cell_type": "code",
   "execution_count": 24,
   "id": "fc0c1aa8997c6f97",
   "metadata": {
    "id": "fc0c1aa8997c6f97",
    "ExecuteTime": {
     "end_time": "2024-10-01T05:29:26.751079Z",
     "start_time": "2024-10-01T05:29:25.717409Z"
    }
   },
   "outputs": [],
   "source": [
    "df = pd.read_csv(\"Final_Prepared_Dataset.csv\")"
   ]
  },
  {
   "cell_type": "markdown",
   "id": "562722196bb2b6a5",
   "metadata": {
    "collapsed": false,
    "id": "562722196bb2b6a5"
   },
   "source": [
    "## **Feature Extraction and Data Splitting**\n",
    "\n",
    "### We separate our features (text content) and target variable (labels):\n"
   ]
  },
  {
   "cell_type": "code",
   "execution_count": 25,
   "id": "c05c53da531cccf9",
   "metadata": {
    "id": "c05c53da531cccf9",
    "ExecuteTime": {
     "end_time": "2024-10-01T05:29:26.766804Z",
     "start_time": "2024-10-01T05:29:26.753556Z"
    }
   },
   "outputs": [],
   "source": [
    "x = df[\"Text\"]\n",
    "y = df[\"Label\"]"
   ]
  },
  {
   "cell_type": "markdown",
   "id": "ea5d398e8b502a38",
   "metadata": {
    "collapsed": false,
    "id": "ea5d398e8b502a38"
   },
   "source": [
    "## Next, we split our data into training and testing sets. We use 80% of the data for training and 20% for testing:\n",
    "\n",
    "### _Setting random_state=42 ensures reproducibility of our results_\n"
   ]
  },
  {
   "cell_type": "code",
   "execution_count": 26,
   "id": "6ef0080a36259f62",
   "metadata": {
    "id": "6ef0080a36259f62",
    "ExecuteTime": {
     "end_time": "2024-10-01T05:29:26.797558Z",
     "start_time": "2024-10-01T05:29:26.769027Z"
    }
   },
   "outputs": [],
   "source": [
    "x_train,x_test,y_train,y_test = train_test_split(x,y,test_size=0.2,random_state=42)"
   ]
  },
  {
   "cell_type": "markdown",
   "id": "cd9bfb0f89eeea1f",
   "metadata": {
    "collapsed": false,
    "id": "cd9bfb0f89eeea1f"
   },
   "source": [
    "## **Text Vectorization**\n",
    "\n",
    "### To convert our text data into a format suitable for machine learning models, we use TF-IDF (Term Frequency-Inverse Document Frequency) vectorization:\n"
   ]
  },
  {
   "cell_type": "code",
   "execution_count": 27,
   "id": "a4eaeba4f06546d",
   "metadata": {
    "id": "a4eaeba4f06546d",
    "ExecuteTime": {
     "end_time": "2024-10-01T05:29:26.813026Z",
     "start_time": "2024-10-01T05:29:26.802844Z"
    }
   },
   "outputs": [],
   "source": [
    "vectorization = TfidfVectorizer()"
   ]
  },
  {
   "cell_type": "markdown",
   "id": "1de5ebed9c989e15",
   "metadata": {
    "collapsed": false,
    "id": "1de5ebed9c989e15"
   },
   "source": [
    "### **TF-IDF vectorization helps to:**\n",
    "\n",
    "### 1. _Convert text data into numerical features_\n",
    "\n",
    "### 2. _Capture the importance of words in the context of the entire corpus_\n",
    "\n",
    "### 3. _Reduce the impact of common words that may not be as informative for classification_\n"
   ]
  },
  {
   "cell_type": "markdown",
   "id": "cc78fcbcf219f1aa",
   "metadata": {
    "collapsed": false,
    "id": "cc78fcbcf219f1aa"
   },
   "source": [
    "### We fit the vectorizer on the training data and then transform both training and test data. This ensures that our model isn't exposed to any information from the test set during training.\n"
   ]
  },
  {
   "cell_type": "code",
   "execution_count": 28,
   "id": "812bbc5f73bf46c1",
   "metadata": {
    "id": "812bbc5f73bf46c1",
    "ExecuteTime": {
     "end_time": "2024-10-01T05:29:38.755362Z",
     "start_time": "2024-10-01T05:29:26.815164Z"
    }
   },
   "outputs": [],
   "source": [
    "x_train_tfidf = vectorization.fit_transform(x_train)\n",
    "x_test_tfidf = vectorization.transform(x_test)"
   ]
  },
  {
   "cell_type": "markdown",
   "id": "rxRqTmCgZlk2",
   "metadata": {
    "id": "rxRqTmCgZlk2"
   },
   "source": [
    "### Difference between fit_transform and transform : <br>\n",
    "\n",
    "#### **fit_transform**: Learns the vocabulary from the training data and transforms the training data into a numerical representation.\n",
    "\n",
    "#### **transform** : Transforms the test data into the same numerical representation as the training data, using the vocabulary learned from the training data.\n"
   ]
  },
  {
   "cell_type": "markdown",
   "id": "d3f1951db2bf118b",
   "metadata": {
    "collapsed": false,
    "id": "d3f1951db2bf118b"
   },
   "source": [
    "# **<u>Model Selection and Hyperparameter Tuning</u>**\n"
   ]
  },
  {
   "cell_type": "markdown",
   "id": "b6b2ddbb8bcef15d",
   "metadata": {
    "collapsed": false,
    "id": "b6b2ddbb8bcef15d"
   },
   "source": [
    "## For our fake news detection task, we'll use Logistic Regression as our baseline model. Logistic Regression is a good choice for binary classification problems like this one.\n"
   ]
  },
  {
   "cell_type": "markdown",
   "id": "43a4993b12369879",
   "metadata": {
    "collapsed": false,
    "id": "43a4993b12369879"
   },
   "source": [
    "# **1. Logisitic Regression**\n"
   ]
  },
  {
   "cell_type": "code",
   "execution_count": 29,
   "id": "d9b7956d22423b88",
   "metadata": {
    "id": "d9b7956d22423b88",
    "ExecuteTime": {
     "end_time": "2024-10-01T05:29:38.817935Z",
     "start_time": "2024-10-01T05:29:38.755362Z"
    }
   },
   "outputs": [],
   "source": [
    "from sklearn.linear_model import LogisticRegression # type: ignore\n",
    "\n",
    "lr = LogisticRegression()"
   ]
  },
  {
   "cell_type": "markdown",
   "id": "34e3a05e59e41d87",
   "metadata": {
    "collapsed": false,
    "id": "34e3a05e59e41d87"
   },
   "source": [
    "### To optimize our model's performance, we'll use GridSearchCV for hyperparameter tuning:\n"
   ]
  },
  {
   "cell_type": "markdown",
   "id": "28c74428765ba109",
   "metadata": {
    "collapsed": false,
    "id": "28c74428765ba109"
   },
   "source": [
    "## **Here's what we're tuning**:\n",
    "\n",
    "### **C**: The inverse of regularization strength. Smaller values specify stronger regularization.\n",
    "\n",
    "### **solver**: The algorithm to use in the optimization problem.\n",
    "\n",
    "### We **set max_iter=1000** to allow the model more iterations to converge.\n",
    "\n",
    "### We use 5-fold cross-validation (**cv=5**) to ensure robust results.\n"
   ]
  },
  {
   "cell_type": "code",
   "execution_count": 30,
   "id": "7aafb4e8f830ea58",
   "metadata": {
    "id": "7aafb4e8f830ea58",
    "ExecuteTime": {
     "end_time": "2024-10-01T05:29:38.833564Z",
     "start_time": "2024-10-01T05:29:38.817935Z"
    }
   },
   "outputs": [],
   "source": [
    "param_grid = {\n",
    "    'C': [0.1, 1, 10],\n",
    "    'solver': ['newton-cg', 'liblinear', 'saga']\n",
    "}\n",
    "grid = GridSearchCV(LogisticRegression(max_iter=1000), param_grid, refit=True, verbose=2, cv=5)"
   ]
  },
  {
   "cell_type": "markdown",
   "id": "f925a7b3f32e8573",
   "metadata": {
    "collapsed": false,
    "id": "f925a7b3f32e8573"
   },
   "source": [
    "### Now, we fit the grid search to our training data:\n"
   ]
  },
  {
   "cell_type": "code",
   "execution_count": 31,
   "id": "335b0d879f53a19d",
   "metadata": {
    "colab": {
     "base_uri": "https://localhost:8080/",
     "height": 914
    },
    "id": "335b0d879f53a19d",
    "outputId": "4a99c1fb-3640-454b-838d-6015d09df517",
    "ExecuteTime": {
     "end_time": "2024-10-01T05:31:32.816388Z",
     "start_time": "2024-10-01T05:29:38.833564Z"
    }
   },
   "outputs": [
    {
     "name": "stdout",
     "output_type": "stream",
     "text": [
      "Fitting 5 folds for each of 9 candidates, totalling 45 fits\n",
      "[CV] END ............................C=0.1, solver=newton-cg; total time=   1.1s\n",
      "[CV] END ............................C=0.1, solver=newton-cg; total time=   1.1s\n",
      "[CV] END ............................C=0.1, solver=newton-cg; total time=   1.0s\n",
      "[CV] END ............................C=0.1, solver=newton-cg; total time=   1.1s\n",
      "[CV] END ............................C=0.1, solver=newton-cg; total time=   1.0s\n",
      "[CV] END ............................C=0.1, solver=liblinear; total time=   0.7s\n",
      "[CV] END ............................C=0.1, solver=liblinear; total time=   0.7s\n",
      "[CV] END ............................C=0.1, solver=liblinear; total time=   0.8s\n",
      "[CV] END ............................C=0.1, solver=liblinear; total time=   0.8s\n",
      "[CV] END ............................C=0.1, solver=liblinear; total time=   0.8s\n",
      "[CV] END .................................C=0.1, solver=saga; total time=   2.0s\n",
      "[CV] END .................................C=0.1, solver=saga; total time=   1.9s\n",
      "[CV] END .................................C=0.1, solver=saga; total time=   2.0s\n",
      "[CV] END .................................C=0.1, solver=saga; total time=   2.2s\n",
      "[CV] END .................................C=0.1, solver=saga; total time=   2.0s\n",
      "[CV] END ..............................C=1, solver=newton-cg; total time=   1.4s\n",
      "[CV] END ..............................C=1, solver=newton-cg; total time=   1.4s\n",
      "[CV] END ..............................C=1, solver=newton-cg; total time=   1.4s\n",
      "[CV] END ..............................C=1, solver=newton-cg; total time=   1.4s\n",
      "[CV] END ..............................C=1, solver=newton-cg; total time=   1.4s\n",
      "[CV] END ..............................C=1, solver=liblinear; total time=   1.6s\n",
      "[CV] END ..............................C=1, solver=liblinear; total time=   1.7s\n",
      "[CV] END ..............................C=1, solver=liblinear; total time=   1.5s\n",
      "[CV] END ..............................C=1, solver=liblinear; total time=   1.5s\n",
      "[CV] END ..............................C=1, solver=liblinear; total time=   1.8s\n",
      "[CV] END ...................................C=1, solver=saga; total time=   2.4s\n",
      "[CV] END ...................................C=1, solver=saga; total time=   2.5s\n",
      "[CV] END ...................................C=1, solver=saga; total time=   2.4s\n",
      "[CV] END ...................................C=1, solver=saga; total time=   2.0s\n",
      "[CV] END ...................................C=1, solver=saga; total time=   2.1s\n",
      "[CV] END .............................C=10, solver=newton-cg; total time=   2.7s\n",
      "[CV] END .............................C=10, solver=newton-cg; total time=   2.9s\n",
      "[CV] END .............................C=10, solver=newton-cg; total time=   2.9s\n",
      "[CV] END .............................C=10, solver=newton-cg; total time=   2.8s\n",
      "[CV] END .............................C=10, solver=newton-cg; total time=   2.9s\n",
      "[CV] END .............................C=10, solver=liblinear; total time=   2.7s\n",
      "[CV] END .............................C=10, solver=liblinear; total time=   2.7s\n",
      "[CV] END .............................C=10, solver=liblinear; total time=   2.7s\n",
      "[CV] END .............................C=10, solver=liblinear; total time=   2.7s\n",
      "[CV] END .............................C=10, solver=liblinear; total time=   2.6s\n",
      "[CV] END ..................................C=10, solver=saga; total time=   5.4s\n",
      "[CV] END ..................................C=10, solver=saga; total time=   6.3s\n",
      "[CV] END ..................................C=10, solver=saga; total time=   5.5s\n",
      "[CV] END ..................................C=10, solver=saga; total time=   6.0s\n",
      "[CV] END ..................................C=10, solver=saga; total time=   5.2s\n"
     ]
    },
    {
     "data": {
      "text/plain": "GridSearchCV(cv=5, estimator=LogisticRegression(max_iter=1000),\n             param_grid={'C': [0.1, 1, 10],\n                         'solver': ['newton-cg', 'liblinear', 'saga']},\n             verbose=2)",
      "text/html": "<style>#sk-container-id-1 {\n  /* Definition of color scheme common for light and dark mode */\n  --sklearn-color-text: black;\n  --sklearn-color-line: gray;\n  /* Definition of color scheme for unfitted estimators */\n  --sklearn-color-unfitted-level-0: #fff5e6;\n  --sklearn-color-unfitted-level-1: #f6e4d2;\n  --sklearn-color-unfitted-level-2: #ffe0b3;\n  --sklearn-color-unfitted-level-3: chocolate;\n  /* Definition of color scheme for fitted estimators */\n  --sklearn-color-fitted-level-0: #f0f8ff;\n  --sklearn-color-fitted-level-1: #d4ebff;\n  --sklearn-color-fitted-level-2: #b3dbfd;\n  --sklearn-color-fitted-level-3: cornflowerblue;\n\n  /* Specific color for light theme */\n  --sklearn-color-text-on-default-background: var(--sg-text-color, var(--theme-code-foreground, var(--jp-content-font-color1, black)));\n  --sklearn-color-background: var(--sg-background-color, var(--theme-background, var(--jp-layout-color0, white)));\n  --sklearn-color-border-box: var(--sg-text-color, var(--theme-code-foreground, var(--jp-content-font-color1, black)));\n  --sklearn-color-icon: #696969;\n\n  @media (prefers-color-scheme: dark) {\n    /* Redefinition of color scheme for dark theme */\n    --sklearn-color-text-on-default-background: var(--sg-text-color, var(--theme-code-foreground, var(--jp-content-font-color1, white)));\n    --sklearn-color-background: var(--sg-background-color, var(--theme-background, var(--jp-layout-color0, #111)));\n    --sklearn-color-border-box: var(--sg-text-color, var(--theme-code-foreground, var(--jp-content-font-color1, white)));\n    --sklearn-color-icon: #878787;\n  }\n}\n\n#sk-container-id-1 {\n  color: var(--sklearn-color-text);\n}\n\n#sk-container-id-1 pre {\n  padding: 0;\n}\n\n#sk-container-id-1 input.sk-hidden--visually {\n  border: 0;\n  clip: rect(1px 1px 1px 1px);\n  clip: rect(1px, 1px, 1px, 1px);\n  height: 1px;\n  margin: -1px;\n  overflow: hidden;\n  padding: 0;\n  position: absolute;\n  width: 1px;\n}\n\n#sk-container-id-1 div.sk-dashed-wrapped {\n  border: 1px dashed var(--sklearn-color-line);\n  margin: 0 0.4em 0.5em 0.4em;\n  box-sizing: border-box;\n  padding-bottom: 0.4em;\n  background-color: var(--sklearn-color-background);\n}\n\n#sk-container-id-1 div.sk-container {\n  /* jupyter's `normalize.less` sets `[hidden] { display: none; }`\n     but bootstrap.min.css set `[hidden] { display: none !important; }`\n     so we also need the `!important` here to be able to override the\n     default hidden behavior on the sphinx rendered scikit-learn.org.\n     See: https://github.com/scikit-learn/scikit-learn/issues/21755 */\n  display: inline-block !important;\n  position: relative;\n}\n\n#sk-container-id-1 div.sk-text-repr-fallback {\n  display: none;\n}\n\ndiv.sk-parallel-item,\ndiv.sk-serial,\ndiv.sk-item {\n  /* draw centered vertical line to link estimators */\n  background-image: linear-gradient(var(--sklearn-color-text-on-default-background), var(--sklearn-color-text-on-default-background));\n  background-size: 2px 100%;\n  background-repeat: no-repeat;\n  background-position: center center;\n}\n\n/* Parallel-specific style estimator block */\n\n#sk-container-id-1 div.sk-parallel-item::after {\n  content: \"\";\n  width: 100%;\n  border-bottom: 2px solid var(--sklearn-color-text-on-default-background);\n  flex-grow: 1;\n}\n\n#sk-container-id-1 div.sk-parallel {\n  display: flex;\n  align-items: stretch;\n  justify-content: center;\n  background-color: var(--sklearn-color-background);\n  position: relative;\n}\n\n#sk-container-id-1 div.sk-parallel-item {\n  display: flex;\n  flex-direction: column;\n}\n\n#sk-container-id-1 div.sk-parallel-item:first-child::after {\n  align-self: flex-end;\n  width: 50%;\n}\n\n#sk-container-id-1 div.sk-parallel-item:last-child::after {\n  align-self: flex-start;\n  width: 50%;\n}\n\n#sk-container-id-1 div.sk-parallel-item:only-child::after {\n  width: 0;\n}\n\n/* Serial-specific style estimator block */\n\n#sk-container-id-1 div.sk-serial {\n  display: flex;\n  flex-direction: column;\n  align-items: center;\n  background-color: var(--sklearn-color-background);\n  padding-right: 1em;\n  padding-left: 1em;\n}\n\n\n/* Toggleable style: style used for estimator/Pipeline/ColumnTransformer box that is\nclickable and can be expanded/collapsed.\n- Pipeline and ColumnTransformer use this feature and define the default style\n- Estimators will overwrite some part of the style using the `sk-estimator` class\n*/\n\n/* Pipeline and ColumnTransformer style (default) */\n\n#sk-container-id-1 div.sk-toggleable {\n  /* Default theme specific background. It is overwritten whether we have a\n  specific estimator or a Pipeline/ColumnTransformer */\n  background-color: var(--sklearn-color-background);\n}\n\n/* Toggleable label */\n#sk-container-id-1 label.sk-toggleable__label {\n  cursor: pointer;\n  display: block;\n  width: 100%;\n  margin-bottom: 0;\n  padding: 0.5em;\n  box-sizing: border-box;\n  text-align: center;\n}\n\n#sk-container-id-1 label.sk-toggleable__label-arrow:before {\n  /* Arrow on the left of the label */\n  content: \"▸\";\n  float: left;\n  margin-right: 0.25em;\n  color: var(--sklearn-color-icon);\n}\n\n#sk-container-id-1 label.sk-toggleable__label-arrow:hover:before {\n  color: var(--sklearn-color-text);\n}\n\n/* Toggleable content - dropdown */\n\n#sk-container-id-1 div.sk-toggleable__content {\n  max-height: 0;\n  max-width: 0;\n  overflow: hidden;\n  text-align: left;\n  /* unfitted */\n  background-color: var(--sklearn-color-unfitted-level-0);\n}\n\n#sk-container-id-1 div.sk-toggleable__content.fitted {\n  /* fitted */\n  background-color: var(--sklearn-color-fitted-level-0);\n}\n\n#sk-container-id-1 div.sk-toggleable__content pre {\n  margin: 0.2em;\n  border-radius: 0.25em;\n  color: var(--sklearn-color-text);\n  /* unfitted */\n  background-color: var(--sklearn-color-unfitted-level-0);\n}\n\n#sk-container-id-1 div.sk-toggleable__content.fitted pre {\n  /* unfitted */\n  background-color: var(--sklearn-color-fitted-level-0);\n}\n\n#sk-container-id-1 input.sk-toggleable__control:checked~div.sk-toggleable__content {\n  /* Expand drop-down */\n  max-height: 200px;\n  max-width: 100%;\n  overflow: auto;\n}\n\n#sk-container-id-1 input.sk-toggleable__control:checked~label.sk-toggleable__label-arrow:before {\n  content: \"▾\";\n}\n\n/* Pipeline/ColumnTransformer-specific style */\n\n#sk-container-id-1 div.sk-label input.sk-toggleable__control:checked~label.sk-toggleable__label {\n  color: var(--sklearn-color-text);\n  background-color: var(--sklearn-color-unfitted-level-2);\n}\n\n#sk-container-id-1 div.sk-label.fitted input.sk-toggleable__control:checked~label.sk-toggleable__label {\n  background-color: var(--sklearn-color-fitted-level-2);\n}\n\n/* Estimator-specific style */\n\n/* Colorize estimator box */\n#sk-container-id-1 div.sk-estimator input.sk-toggleable__control:checked~label.sk-toggleable__label {\n  /* unfitted */\n  background-color: var(--sklearn-color-unfitted-level-2);\n}\n\n#sk-container-id-1 div.sk-estimator.fitted input.sk-toggleable__control:checked~label.sk-toggleable__label {\n  /* fitted */\n  background-color: var(--sklearn-color-fitted-level-2);\n}\n\n#sk-container-id-1 div.sk-label label.sk-toggleable__label,\n#sk-container-id-1 div.sk-label label {\n  /* The background is the default theme color */\n  color: var(--sklearn-color-text-on-default-background);\n}\n\n/* On hover, darken the color of the background */\n#sk-container-id-1 div.sk-label:hover label.sk-toggleable__label {\n  color: var(--sklearn-color-text);\n  background-color: var(--sklearn-color-unfitted-level-2);\n}\n\n/* Label box, darken color on hover, fitted */\n#sk-container-id-1 div.sk-label.fitted:hover label.sk-toggleable__label.fitted {\n  color: var(--sklearn-color-text);\n  background-color: var(--sklearn-color-fitted-level-2);\n}\n\n/* Estimator label */\n\n#sk-container-id-1 div.sk-label label {\n  font-family: monospace;\n  font-weight: bold;\n  display: inline-block;\n  line-height: 1.2em;\n}\n\n#sk-container-id-1 div.sk-label-container {\n  text-align: center;\n}\n\n/* Estimator-specific */\n#sk-container-id-1 div.sk-estimator {\n  font-family: monospace;\n  border: 1px dotted var(--sklearn-color-border-box);\n  border-radius: 0.25em;\n  box-sizing: border-box;\n  margin-bottom: 0.5em;\n  /* unfitted */\n  background-color: var(--sklearn-color-unfitted-level-0);\n}\n\n#sk-container-id-1 div.sk-estimator.fitted {\n  /* fitted */\n  background-color: var(--sklearn-color-fitted-level-0);\n}\n\n/* on hover */\n#sk-container-id-1 div.sk-estimator:hover {\n  /* unfitted */\n  background-color: var(--sklearn-color-unfitted-level-2);\n}\n\n#sk-container-id-1 div.sk-estimator.fitted:hover {\n  /* fitted */\n  background-color: var(--sklearn-color-fitted-level-2);\n}\n\n/* Specification for estimator info (e.g. \"i\" and \"?\") */\n\n/* Common style for \"i\" and \"?\" */\n\n.sk-estimator-doc-link,\na:link.sk-estimator-doc-link,\na:visited.sk-estimator-doc-link {\n  float: right;\n  font-size: smaller;\n  line-height: 1em;\n  font-family: monospace;\n  background-color: var(--sklearn-color-background);\n  border-radius: 1em;\n  height: 1em;\n  width: 1em;\n  text-decoration: none !important;\n  margin-left: 1ex;\n  /* unfitted */\n  border: var(--sklearn-color-unfitted-level-1) 1pt solid;\n  color: var(--sklearn-color-unfitted-level-1);\n}\n\n.sk-estimator-doc-link.fitted,\na:link.sk-estimator-doc-link.fitted,\na:visited.sk-estimator-doc-link.fitted {\n  /* fitted */\n  border: var(--sklearn-color-fitted-level-1) 1pt solid;\n  color: var(--sklearn-color-fitted-level-1);\n}\n\n/* On hover */\ndiv.sk-estimator:hover .sk-estimator-doc-link:hover,\n.sk-estimator-doc-link:hover,\ndiv.sk-label-container:hover .sk-estimator-doc-link:hover,\n.sk-estimator-doc-link:hover {\n  /* unfitted */\n  background-color: var(--sklearn-color-unfitted-level-3);\n  color: var(--sklearn-color-background);\n  text-decoration: none;\n}\n\ndiv.sk-estimator.fitted:hover .sk-estimator-doc-link.fitted:hover,\n.sk-estimator-doc-link.fitted:hover,\ndiv.sk-label-container:hover .sk-estimator-doc-link.fitted:hover,\n.sk-estimator-doc-link.fitted:hover {\n  /* fitted */\n  background-color: var(--sklearn-color-fitted-level-3);\n  color: var(--sklearn-color-background);\n  text-decoration: none;\n}\n\n/* Span, style for the box shown on hovering the info icon */\n.sk-estimator-doc-link span {\n  display: none;\n  z-index: 9999;\n  position: relative;\n  font-weight: normal;\n  right: .2ex;\n  padding: .5ex;\n  margin: .5ex;\n  width: min-content;\n  min-width: 20ex;\n  max-width: 50ex;\n  color: var(--sklearn-color-text);\n  box-shadow: 2pt 2pt 4pt #999;\n  /* unfitted */\n  background: var(--sklearn-color-unfitted-level-0);\n  border: .5pt solid var(--sklearn-color-unfitted-level-3);\n}\n\n.sk-estimator-doc-link.fitted span {\n  /* fitted */\n  background: var(--sklearn-color-fitted-level-0);\n  border: var(--sklearn-color-fitted-level-3);\n}\n\n.sk-estimator-doc-link:hover span {\n  display: block;\n}\n\n/* \"?\"-specific style due to the `<a>` HTML tag */\n\n#sk-container-id-1 a.estimator_doc_link {\n  float: right;\n  font-size: 1rem;\n  line-height: 1em;\n  font-family: monospace;\n  background-color: var(--sklearn-color-background);\n  border-radius: 1rem;\n  height: 1rem;\n  width: 1rem;\n  text-decoration: none;\n  /* unfitted */\n  color: var(--sklearn-color-unfitted-level-1);\n  border: var(--sklearn-color-unfitted-level-1) 1pt solid;\n}\n\n#sk-container-id-1 a.estimator_doc_link.fitted {\n  /* fitted */\n  border: var(--sklearn-color-fitted-level-1) 1pt solid;\n  color: var(--sklearn-color-fitted-level-1);\n}\n\n/* On hover */\n#sk-container-id-1 a.estimator_doc_link:hover {\n  /* unfitted */\n  background-color: var(--sklearn-color-unfitted-level-3);\n  color: var(--sklearn-color-background);\n  text-decoration: none;\n}\n\n#sk-container-id-1 a.estimator_doc_link.fitted:hover {\n  /* fitted */\n  background-color: var(--sklearn-color-fitted-level-3);\n}\n</style><div id=\"sk-container-id-1\" class=\"sk-top-container\"><div class=\"sk-text-repr-fallback\"><pre>GridSearchCV(cv=5, estimator=LogisticRegression(max_iter=1000),\n             param_grid={&#x27;C&#x27;: [0.1, 1, 10],\n                         &#x27;solver&#x27;: [&#x27;newton-cg&#x27;, &#x27;liblinear&#x27;, &#x27;saga&#x27;]},\n             verbose=2)</pre><b>In a Jupyter environment, please rerun this cell to show the HTML representation or trust the notebook. <br />On GitHub, the HTML representation is unable to render, please try loading this page with nbviewer.org.</b></div><div class=\"sk-container\" hidden><div class=\"sk-item sk-dashed-wrapped\"><div class=\"sk-label-container\"><div class=\"sk-label fitted sk-toggleable\"><input class=\"sk-toggleable__control sk-hidden--visually\" id=\"sk-estimator-id-1\" type=\"checkbox\" ><label for=\"sk-estimator-id-1\" class=\"sk-toggleable__label fitted sk-toggleable__label-arrow fitted\">&nbsp;&nbsp;GridSearchCV<a class=\"sk-estimator-doc-link fitted\" rel=\"noreferrer\" target=\"_blank\" href=\"https://scikit-learn.org/1.5/modules/generated/sklearn.model_selection.GridSearchCV.html\">?<span>Documentation for GridSearchCV</span></a><span class=\"sk-estimator-doc-link fitted\">i<span>Fitted</span></span></label><div class=\"sk-toggleable__content fitted\"><pre>GridSearchCV(cv=5, estimator=LogisticRegression(max_iter=1000),\n             param_grid={&#x27;C&#x27;: [0.1, 1, 10],\n                         &#x27;solver&#x27;: [&#x27;newton-cg&#x27;, &#x27;liblinear&#x27;, &#x27;saga&#x27;]},\n             verbose=2)</pre></div> </div></div><div class=\"sk-parallel\"><div class=\"sk-parallel-item\"><div class=\"sk-item\"><div class=\"sk-label-container\"><div class=\"sk-label fitted sk-toggleable\"><input class=\"sk-toggleable__control sk-hidden--visually\" id=\"sk-estimator-id-2\" type=\"checkbox\" ><label for=\"sk-estimator-id-2\" class=\"sk-toggleable__label fitted sk-toggleable__label-arrow fitted\">best_estimator_: LogisticRegression</label><div class=\"sk-toggleable__content fitted\"><pre>LogisticRegression(C=10, max_iter=1000, solver=&#x27;saga&#x27;)</pre></div> </div></div><div class=\"sk-serial\"><div class=\"sk-item\"><div class=\"sk-estimator fitted sk-toggleable\"><input class=\"sk-toggleable__control sk-hidden--visually\" id=\"sk-estimator-id-3\" type=\"checkbox\" ><label for=\"sk-estimator-id-3\" class=\"sk-toggleable__label fitted sk-toggleable__label-arrow fitted\">&nbsp;LogisticRegression<a class=\"sk-estimator-doc-link fitted\" rel=\"noreferrer\" target=\"_blank\" href=\"https://scikit-learn.org/1.5/modules/generated/sklearn.linear_model.LogisticRegression.html\">?<span>Documentation for LogisticRegression</span></a></label><div class=\"sk-toggleable__content fitted\"><pre>LogisticRegression(C=10, max_iter=1000, solver=&#x27;saga&#x27;)</pre></div> </div></div></div></div></div></div></div></div></div>"
     },
     "execution_count": 31,
     "metadata": {},
     "output_type": "execute_result"
    }
   ],
   "source": [
    "grid.fit(x_train_tfidf, y_train)"
   ]
  },
  {
   "cell_type": "markdown",
   "id": "213f2f3c81091c99",
   "metadata": {
    "collapsed": false,
    "id": "213f2f3c81091c99"
   },
   "source": [
    "### After fitting, we can see the best parameters and score:\n"
   ]
  },
  {
   "cell_type": "code",
   "execution_count": 32,
   "id": "2c634feb0add27",
   "metadata": {
    "colab": {
     "base_uri": "https://localhost:8080/"
    },
    "id": "2c634feb0add27",
    "outputId": "b6d62fe1-1a3c-427b-a42c-a361aa6a7a8a",
    "ExecuteTime": {
     "end_time": "2024-10-01T05:31:32.832012Z",
     "start_time": "2024-10-01T05:31:32.816388Z"
    }
   },
   "outputs": [
    {
     "name": "stdout",
     "output_type": "stream",
     "text": [
      "Best parameters found:  {'C': 10, 'solver': 'saga'}\n",
      "Best score:  0.9681137906713433\n"
     ]
    }
   ],
   "source": [
    "print(\"Best parameters found: \", grid.best_params_)\n",
    "print(\"Best score: \", grid.best_score_)"
   ]
  },
  {
   "cell_type": "markdown",
   "id": "92c5fa7ab4f971e8",
   "metadata": {
    "collapsed": false,
    "id": "92c5fa7ab4f971e8"
   },
   "source": [
    "### With our best model selected, we can now evaluate its performance on the test set:\n"
   ]
  },
  {
   "cell_type": "code",
   "execution_count": 33,
   "id": "3c6e7d24e85a9f67",
   "metadata": {
    "colab": {
     "base_uri": "https://localhost:8080/"
    },
    "id": "3c6e7d24e85a9f67",
    "outputId": "70f9a49c-73bc-4ec7-cfa9-0fb065988b5e",
    "ExecuteTime": {
     "end_time": "2024-10-01T05:31:32.879328Z",
     "start_time": "2024-10-01T05:31:32.832012Z"
    }
   },
   "outputs": [
    {
     "name": "stdout",
     "output_type": "stream",
     "text": [
      "Logistic Regression Classification Report after Hyperparameter Tuning:\n",
      "              precision    recall  f1-score   support\n",
      "\n",
      "           0       0.98      0.95      0.96      8383\n",
      "           1       0.97      0.98      0.98     11940\n",
      "\n",
      "    accuracy                           0.97     20323\n",
      "   macro avg       0.97      0.97      0.97     20323\n",
      "weighted avg       0.97      0.97      0.97     20323\n"
     ]
    }
   ],
   "source": [
    "best_model = grid.best_estimator_\n",
    "y_pred_lr = best_model.predict(x_test_tfidf)\n",
    "print(\"Logistic Regression Classification Report after Hyperparameter Tuning:\")\n",
    "print(classification_report(y_test, y_pred_lr))\n"
   ]
  },
  {
   "cell_type": "code",
   "execution_count": 34,
   "id": "GQcSseolajsQ",
   "metadata": {
    "colab": {
     "base_uri": "https://localhost:8080/"
    },
    "id": "GQcSseolajsQ",
    "outputId": "1a253cb4-12c4-44a9-c453-89ced6e99be6",
    "ExecuteTime": {
     "end_time": "2024-10-01T05:31:32.895805Z",
     "start_time": "2024-10-01T05:31:32.879328Z"
    }
   },
   "outputs": [
    {
     "name": "stdout",
     "output_type": "stream",
     "text": [
      "Accuracy: 0.97\n"
     ]
    }
   ],
   "source": [
    "accuracy_lr = accuracy_score(y_test, y_pred_lr)\n",
    "print(f\"Accuracy: {accuracy_lr:.2f}\")"
   ]
  },
  {
   "cell_type": "markdown",
   "id": "Ph6j8T2LeWSL",
   "metadata": {
    "id": "Ph6j8T2LeWSL"
   },
   "source": [
    "## **Accuracy of Logistic Regression Model : 0.97**\n"
   ]
  },
  {
   "cell_type": "markdown",
   "id": "WKyWy7NVS3UO",
   "metadata": {
    "id": "WKyWy7NVS3UO"
   },
   "source": [
    "## **Confusion Matrix For Logistic Regression**\n"
   ]
  },
  {
   "cell_type": "code",
   "execution_count": 35,
   "id": "Ks3Pi3APS8y-",
   "metadata": {
    "colab": {
     "base_uri": "https://localhost:8080/",
     "height": 466
    },
    "id": "Ks3Pi3APS8y-",
    "outputId": "f0333f7f-0d3b-4080-beb2-b24cf4e22de0",
    "ExecuteTime": {
     "end_time": "2024-10-01T05:31:33.609822Z",
     "start_time": "2024-10-01T05:31:32.895805Z"
    }
   },
   "outputs": [
    {
     "data": {
      "text/plain": "<sklearn.metrics._plot.confusion_matrix.ConfusionMatrixDisplay at 0x1f692d77730>"
     },
     "execution_count": 35,
     "metadata": {},
     "output_type": "execute_result"
    },
    {
     "data": {
      "text/plain": "<Figure size 640x480 with 2 Axes>",
      "image/png": "[encoded data removed]"
     },
     "metadata": {},
     "output_type": "display_data"
    }
   ],
   "source": [
    "cm = confusion_matrix(y_test,y_pred_lr)\n",
    "disp = metrics.ConfusionMatrixDisplay(confusion_matrix=cm)\n",
    "disp.plot()"
   ]
  },
  {
   "cell_type": "markdown",
   "id": "LyeEk1NXalX6",
   "metadata": {
    "id": "LyeEk1NXalX6"
   },
   "source": [
    "### **Accuracy of Logistic Regression Model : 0.97**\n"
   ]
  },
  {
   "cell_type": "markdown",
   "id": "eWhowic5asdy",
   "metadata": {
    "id": "eWhowic5asdy"
   },
   "source": [
    "---\n",
    "---\n"
   ]
  },
  {
   "cell_type": "markdown",
   "id": "593863b334092f36",
   "metadata": {
    "collapsed": false,
    "id": "593863b334092f36"
   },
   "source": [
    "# **2. Support Vector Machine (SVM) Model**\n"
   ]
  },
  {
   "cell_type": "markdown",
   "id": "4aba64caea397e37",
   "metadata": {
    "collapsed": false,
    "id": "4aba64caea397e37"
   },
   "source": [
    "### After exploring Logistic Regression, we'll now implement a Support Vector Machine (SVM) classifier. SVMs are particularly effective for text classification tasks due to their ability to handle high-dimensional data well.\n",
    "\n",
    "## Optimizing SVM Performance\n",
    "\n",
    "## _To address the computational intensity of SVM, especially with large datasets, we're using Intel's optimized scikit-learn extension_\n"
   ]
  },
  {
   "cell_type": "code",
   "execution_count": 37,
   "id": "dea5c1a4fd3a8913",
   "metadata": {
    "colab": {
     "base_uri": "https://localhost:8080/"
    },
    "id": "dea5c1a4fd3a8913",
    "outputId": "a22ab3c6-7e13-4345-b41f-2eda29f47720",
    "ExecuteTime": {
     "end_time": "2024-10-01T05:31:34.809087Z",
     "start_time": "2024-10-01T05:31:34.465381Z"
    }
   },
   "outputs": [
    {
     "name": "stderr",
     "output_type": "stream",
     "text": [
      "Intel(R) Extension for Scikit-learn* enabled (https://github.com/intel/scikit-learn-intelex)\n"
     ]
    }
   ],
   "source": [
    "from sklearnex import patch_sklearn\n",
    "patch_sklearn()"
   ]
  },
  {
   "cell_type": "markdown",
   "id": "bccf54c19c9810cf",
   "metadata": {
    "collapsed": false,
    "id": "bccf54c19c9810cf"
   },
   "source": [
    "## We import and initialize our SVM classifier:\n"
   ]
  },
  {
   "cell_type": "code",
   "execution_count": 38,
   "id": "bbd80bc4a2e854a8",
   "metadata": {
    "id": "bbd80bc4a2e854a8",
    "ExecuteTime": {
     "end_time": "2024-10-01T05:31:34.824915Z",
     "start_time": "2024-10-01T05:31:34.811124Z"
    }
   },
   "outputs": [],
   "source": [
    "from sklearn.svm import SVC\n",
    "svc = SVC()"
   ]
  },
  {
   "cell_type": "markdown",
   "id": "bd6f78caa36ef4cf",
   "metadata": {
    "collapsed": false,
    "id": "bd6f78caa36ef4cf"
   },
   "source": [
    "### Then, we fit the model to our training data:\n"
   ]
  },
  {
   "cell_type": "code",
   "execution_count": 39,
   "id": "6a0fac4dea738c26",
   "metadata": {
    "colab": {
     "base_uri": "https://localhost:8080/",
     "height": 74
    },
    "id": "6a0fac4dea738c26",
    "outputId": "f5609d8a-1143-44c3-ba7a-8d1ffdfe2b36",
    "ExecuteTime": {
     "end_time": "2024-10-01T05:32:17.214743Z",
     "start_time": "2024-10-01T05:31:34.824915Z"
    }
   },
   "outputs": [
    {
     "data": {
      "text/plain": "SVC()",
      "text/html": "<style>#sk-container-id-2 {\n  /* Definition of color scheme common for light and dark mode */\n  --sklearn-color-text: black;\n  --sklearn-color-line: gray;\n  /* Definition of color scheme for unfitted estimators */\n  --sklearn-color-unfitted-level-0: #fff5e6;\n  --sklearn-color-unfitted-level-1: #f6e4d2;\n  --sklearn-color-unfitted-level-2: #ffe0b3;\n  --sklearn-color-unfitted-level-3: chocolate;\n  /* Definition of color scheme for fitted estimators */\n  --sklearn-color-fitted-level-0: #f0f8ff;\n  --sklearn-color-fitted-level-1: #d4ebff;\n  --sklearn-color-fitted-level-2: #b3dbfd;\n  --sklearn-color-fitted-level-3: cornflowerblue;\n\n  /* Specific color for light theme */\n  --sklearn-color-text-on-default-background: var(--sg-text-color, var(--theme-code-foreground, var(--jp-content-font-color1, black)));\n  --sklearn-color-background: var(--sg-background-color, var(--theme-background, var(--jp-layout-color0, white)));\n  --sklearn-color-border-box: var(--sg-text-color, var(--theme-code-foreground, var(--jp-content-font-color1, black)));\n  --sklearn-color-icon: #696969;\n\n  @media (prefers-color-scheme: dark) {\n    /* Redefinition of color scheme for dark theme */\n    --sklearn-color-text-on-default-background: var(--sg-text-color, var(--theme-code-foreground, var(--jp-content-font-color1, white)));\n    --sklearn-color-background: var(--sg-background-color, var(--theme-background, var(--jp-layout-color0, #111)));\n    --sklearn-color-border-box: var(--sg-text-color, var(--theme-code-foreground, var(--jp-content-font-color1, white)));\n    --sklearn-color-icon: #878787;\n  }\n}\n\n#sk-container-id-2 {\n  color: var(--sklearn-color-text);\n}\n\n#sk-container-id-2 pre {\n  padding: 0;\n}\n\n#sk-container-id-2 input.sk-hidden--visually {\n  border: 0;\n  clip: rect(1px 1px 1px 1px);\n  clip: rect(1px, 1px, 1px, 1px);\n  height: 1px;\n  margin: -1px;\n  overflow: hidden;\n  padding: 0;\n  position: absolute;\n  width: 1px;\n}\n\n#sk-container-id-2 div.sk-dashed-wrapped {\n  border: 1px dashed var(--sklearn-color-line);\n  margin: 0 0.4em 0.5em 0.4em;\n  box-sizing: border-box;\n  padding-bottom: 0.4em;\n  background-color: var(--sklearn-color-background);\n}\n\n#sk-container-id-2 div.sk-container {\n  /* jupyter's `normalize.less` sets `[hidden] { display: none; }`\n     but bootstrap.min.css set `[hidden] { display: none !important; }`\n     so we also need the `!important` here to be able to override the\n     default hidden behavior on the sphinx rendered scikit-learn.org.\n     See: https://github.com/scikit-learn/scikit-learn/issues/21755 */\n  display: inline-block !important;\n  position: relative;\n}\n\n#sk-container-id-2 div.sk-text-repr-fallback {\n  display: none;\n}\n\ndiv.sk-parallel-item,\ndiv.sk-serial,\ndiv.sk-item {\n  /* draw centered vertical line to link estimators */\n  background-image: linear-gradient(var(--sklearn-color-text-on-default-background), var(--sklearn-color-text-on-default-background));\n  background-size: 2px 100%;\n  background-repeat: no-repeat;\n  background-position: center center;\n}\n\n/* Parallel-specific style estimator block */\n\n#sk-container-id-2 div.sk-parallel-item::after {\n  content: \"\";\n  width: 100%;\n  border-bottom: 2px solid var(--sklearn-color-text-on-default-background);\n  flex-grow: 1;\n}\n\n#sk-container-id-2 div.sk-parallel {\n  display: flex;\n  align-items: stretch;\n  justify-content: center;\n  background-color: var(--sklearn-color-background);\n  position: relative;\n}\n\n#sk-container-id-2 div.sk-parallel-item {\n  display: flex;\n  flex-direction: column;\n}\n\n#sk-container-id-2 div.sk-parallel-item:first-child::after {\n  align-self: flex-end;\n  width: 50%;\n}\n\n#sk-container-id-2 div.sk-parallel-item:last-child::after {\n  align-self: flex-start;\n  width: 50%;\n}\n\n#sk-container-id-2 div.sk-parallel-item:only-child::after {\n  width: 0;\n}\n\n/* Serial-specific style estimator block */\n\n#sk-container-id-2 div.sk-serial {\n  display: flex;\n  flex-direction: column;\n  align-items: center;\n  background-color: var(--sklearn-color-background);\n  padding-right: 1em;\n  padding-left: 1em;\n}\n\n\n/* Toggleable style: style used for estimator/Pipeline/ColumnTransformer box that is\nclickable and can be expanded/collapsed.\n- Pipeline and ColumnTransformer use this feature and define the default style\n- Estimators will overwrite some part of the style using the `sk-estimator` class\n*/\n\n/* Pipeline and ColumnTransformer style (default) */\n\n#sk-container-id-2 div.sk-toggleable {\n  /* Default theme specific background. It is overwritten whether we have a\n  specific estimator or a Pipeline/ColumnTransformer */\n  background-color: var(--sklearn-color-background);\n}\n\n/* Toggleable label */\n#sk-container-id-2 label.sk-toggleable__label {\n  cursor: pointer;\n  display: block;\n  width: 100%;\n  margin-bottom: 0;\n  padding: 0.5em;\n  box-sizing: border-box;\n  text-align: center;\n}\n\n#sk-container-id-2 label.sk-toggleable__label-arrow:before {\n  /* Arrow on the left of the label */\n  content: \"▸\";\n  float: left;\n  margin-right: 0.25em;\n  color: var(--sklearn-color-icon);\n}\n\n#sk-container-id-2 label.sk-toggleable__label-arrow:hover:before {\n  color: var(--sklearn-color-text);\n}\n\n/* Toggleable content - dropdown */\n\n#sk-container-id-2 div.sk-toggleable__content {\n  max-height: 0;\n  max-width: 0;\n  overflow: hidden;\n  text-align: left;\n  /* unfitted */\n  background-color: var(--sklearn-color-unfitted-level-0);\n}\n\n#sk-container-id-2 div.sk-toggleable__content.fitted {\n  /* fitted */\n  background-color: var(--sklearn-color-fitted-level-0);\n}\n\n#sk-container-id-2 div.sk-toggleable__content pre {\n  margin: 0.2em;\n  border-radius: 0.25em;\n  color: var(--sklearn-color-text);\n  /* unfitted */\n  background-color: var(--sklearn-color-unfitted-level-0);\n}\n\n#sk-container-id-2 div.sk-toggleable__content.fitted pre {\n  /* unfitted */\n  background-color: var(--sklearn-color-fitted-level-0);\n}\n\n#sk-container-id-2 input.sk-toggleable__control:checked~div.sk-toggleable__content {\n  /* Expand drop-down */\n  max-height: 200px;\n  max-width: 100%;\n  overflow: auto;\n}\n\n#sk-container-id-2 input.sk-toggleable__control:checked~label.sk-toggleable__label-arrow:before {\n  content: \"▾\";\n}\n\n/* Pipeline/ColumnTransformer-specific style */\n\n#sk-container-id-2 div.sk-label input.sk-toggleable__control:checked~label.sk-toggleable__label {\n  color: var(--sklearn-color-text);\n  background-color: var(--sklearn-color-unfitted-level-2);\n}\n\n#sk-container-id-2 div.sk-label.fitted input.sk-toggleable__control:checked~label.sk-toggleable__label {\n  background-color: var(--sklearn-color-fitted-level-2);\n}\n\n/* Estimator-specific style */\n\n/* Colorize estimator box */\n#sk-container-id-2 div.sk-estimator input.sk-toggleable__control:checked~label.sk-toggleable__label {\n  /* unfitted */\n  background-color: var(--sklearn-color-unfitted-level-2);\n}\n\n#sk-container-id-2 div.sk-estimator.fitted input.sk-toggleable__control:checked~label.sk-toggleable__label {\n  /* fitted */\n  background-color: var(--sklearn-color-fitted-level-2);\n}\n\n#sk-container-id-2 div.sk-label label.sk-toggleable__label,\n#sk-container-id-2 div.sk-label label {\n  /* The background is the default theme color */\n  color: var(--sklearn-color-text-on-default-background);\n}\n\n/* On hover, darken the color of the background */\n#sk-container-id-2 div.sk-label:hover label.sk-toggleable__label {\n  color: var(--sklearn-color-text);\n  background-color: var(--sklearn-color-unfitted-level-2);\n}\n\n/* Label box, darken color on hover, fitted */\n#sk-container-id-2 div.sk-label.fitted:hover label.sk-toggleable__label.fitted {\n  color: var(--sklearn-color-text);\n  background-color: var(--sklearn-color-fitted-level-2);\n}\n\n/* Estimator label */\n\n#sk-container-id-2 div.sk-label label {\n  font-family: monospace;\n  font-weight: bold;\n  display: inline-block;\n  line-height: 1.2em;\n}\n\n#sk-container-id-2 div.sk-label-container {\n  text-align: center;\n}\n\n/* Estimator-specific */\n#sk-container-id-2 div.sk-estimator {\n  font-family: monospace;\n  border: 1px dotted var(--sklearn-color-border-box);\n  border-radius: 0.25em;\n  box-sizing: border-box;\n  margin-bottom: 0.5em;\n  /* unfitted */\n  background-color: var(--sklearn-color-unfitted-level-0);\n}\n\n#sk-container-id-2 div.sk-estimator.fitted {\n  /* fitted */\n  background-color: var(--sklearn-color-fitted-level-0);\n}\n\n/* on hover */\n#sk-container-id-2 div.sk-estimator:hover {\n  /* unfitted */\n  background-color: var(--sklearn-color-unfitted-level-2);\n}\n\n#sk-container-id-2 div.sk-estimator.fitted:hover {\n  /* fitted */\n  background-color: var(--sklearn-color-fitted-level-2);\n}\n\n/* Specification for estimator info (e.g. \"i\" and \"?\") */\n\n/* Common style for \"i\" and \"?\" */\n\n.sk-estimator-doc-link,\na:link.sk-estimator-doc-link,\na:visited.sk-estimator-doc-link {\n  float: right;\n  font-size: smaller;\n  line-height: 1em;\n  font-family: monospace;\n  background-color: var(--sklearn-color-background);\n  border-radius: 1em;\n  height: 1em;\n  width: 1em;\n  text-decoration: none !important;\n  margin-left: 1ex;\n  /* unfitted */\n  border: var(--sklearn-color-unfitted-level-1) 1pt solid;\n  color: var(--sklearn-color-unfitted-level-1);\n}\n\n.sk-estimator-doc-link.fitted,\na:link.sk-estimator-doc-link.fitted,\na:visited.sk-estimator-doc-link.fitted {\n  /* fitted */\n  border: var(--sklearn-color-fitted-level-1) 1pt solid;\n  color: var(--sklearn-color-fitted-level-1);\n}\n\n/* On hover */\ndiv.sk-estimator:hover .sk-estimator-doc-link:hover,\n.sk-estimator-doc-link:hover,\ndiv.sk-label-container:hover .sk-estimator-doc-link:hover,\n.sk-estimator-doc-link:hover {\n  /* unfitted */\n  background-color: var(--sklearn-color-unfitted-level-3);\n  color: var(--sklearn-color-background);\n  text-decoration: none;\n}\n\ndiv.sk-estimator.fitted:hover .sk-estimator-doc-link.fitted:hover,\n.sk-estimator-doc-link.fitted:hover,\ndiv.sk-label-container:hover .sk-estimator-doc-link.fitted:hover,\n.sk-estimator-doc-link.fitted:hover {\n  /* fitted */\n  background-color: var(--sklearn-color-fitted-level-3);\n  color: var(--sklearn-color-background);\n  text-decoration: none;\n}\n\n/* Span, style for the box shown on hovering the info icon */\n.sk-estimator-doc-link span {\n  display: none;\n  z-index: 9999;\n  position: relative;\n  font-weight: normal;\n  right: .2ex;\n  padding: .5ex;\n  margin: .5ex;\n  width: min-content;\n  min-width: 20ex;\n  max-width: 50ex;\n  color: var(--sklearn-color-text);\n  box-shadow: 2pt 2pt 4pt #999;\n  /* unfitted */\n  background: var(--sklearn-color-unfitted-level-0);\n  border: .5pt solid var(--sklearn-color-unfitted-level-3);\n}\n\n.sk-estimator-doc-link.fitted span {\n  /* fitted */\n  background: var(--sklearn-color-fitted-level-0);\n  border: var(--sklearn-color-fitted-level-3);\n}\n\n.sk-estimator-doc-link:hover span {\n  display: block;\n}\n\n/* \"?\"-specific style due to the `<a>` HTML tag */\n\n#sk-container-id-2 a.estimator_doc_link {\n  float: right;\n  font-size: 1rem;\n  line-height: 1em;\n  font-family: monospace;\n  background-color: var(--sklearn-color-background);\n  border-radius: 1rem;\n  height: 1rem;\n  width: 1rem;\n  text-decoration: none;\n  /* unfitted */\n  color: var(--sklearn-color-unfitted-level-1);\n  border: var(--sklearn-color-unfitted-level-1) 1pt solid;\n}\n\n#sk-container-id-2 a.estimator_doc_link.fitted {\n  /* fitted */\n  border: var(--sklearn-color-fitted-level-1) 1pt solid;\n  color: var(--sklearn-color-fitted-level-1);\n}\n\n/* On hover */\n#sk-container-id-2 a.estimator_doc_link:hover {\n  /* unfitted */\n  background-color: var(--sklearn-color-unfitted-level-3);\n  color: var(--sklearn-color-background);\n  text-decoration: none;\n}\n\n#sk-container-id-2 a.estimator_doc_link.fitted:hover {\n  /* fitted */\n  background-color: var(--sklearn-color-fitted-level-3);\n}\n</style><div id=\"sk-container-id-2\" class=\"sk-top-container\"><div class=\"sk-text-repr-fallback\"><pre>SVC()</pre><b>In a Jupyter environment, please rerun this cell to show the HTML representation or trust the notebook. <br />On GitHub, the HTML representation is unable to render, please try loading this page with nbviewer.org.</b></div><div class=\"sk-container\" hidden><div class=\"sk-item\"><div class=\"sk-estimator fitted sk-toggleable\"><input class=\"sk-toggleable__control sk-hidden--visually\" id=\"sk-estimator-id-4\" type=\"checkbox\" checked><label for=\"sk-estimator-id-4\" class=\"sk-toggleable__label fitted sk-toggleable__label-arrow fitted\">&nbsp;SVC<span class=\"sk-estimator-doc-link fitted\">i<span>Fitted</span></span></label><div class=\"sk-toggleable__content fitted\"><pre>SVC()</pre></div> </div></div></div></div>"
     },
     "execution_count": 39,
     "metadata": {},
     "output_type": "execute_result"
    }
   ],
   "source": [
    "svc.fit(x_train_tfidf,y_train)"
   ]
  },
  {
   "cell_type": "markdown",
   "id": "81d7b1f4588fba1",
   "metadata": {
    "collapsed": false,
    "id": "81d7b1f4588fba1"
   },
   "source": [
    "## **Model Evaluation**\n",
    "\n",
    "### After training, we use the model to make predictions on our test set:\n"
   ]
  },
  {
   "cell_type": "code",
   "execution_count": 40,
   "id": "4b939e905cf720f1",
   "metadata": {
    "id": "4b939e905cf720f1",
    "ExecuteTime": {
     "end_time": "2024-10-01T05:32:22.764910Z",
     "start_time": "2024-10-01T05:32:17.214743Z"
    }
   },
   "outputs": [],
   "source": [
    "y_pred_svc = svc.predict(x_test_tfidf)"
   ]
  },
  {
   "cell_type": "code",
   "execution_count": 41,
   "id": "3779211d62136a78",
   "metadata": {
    "colab": {
     "base_uri": "https://localhost:8080/"
    },
    "id": "3779211d62136a78",
    "outputId": "d724e4f5-62f1-4e5f-c9b4-1c25384c68a8",
    "ExecuteTime": {
     "end_time": "2024-10-01T05:32:22.827463Z",
     "start_time": "2024-10-01T05:32:22.764910Z"
    }
   },
   "outputs": [
    {
     "name": "stdout",
     "output_type": "stream",
     "text": [
      "              precision    recall  f1-score   support\n",
      "\n",
      "           0       0.99      0.95      0.97      8383\n",
      "           1       0.97      0.99      0.98     11940\n",
      "\n",
      "    accuracy                           0.97     20323\n",
      "   macro avg       0.98      0.97      0.97     20323\n",
      "weighted avg       0.97      0.97      0.97     20323\n"
     ]
    }
   ],
   "source": [
    "print(classification_report(y_test, y_pred_svc))"
   ]
  },
  {
   "cell_type": "code",
   "execution_count": 42,
   "id": "KIxQhnVua_UB",
   "metadata": {
    "colab": {
     "base_uri": "https://localhost:8080/"
    },
    "id": "KIxQhnVua_UB",
    "outputId": "b15a7548-eb61-4026-bc60-cfeac07ce39c",
    "ExecuteTime": {
     "end_time": "2024-10-01T05:32:22.843100Z",
     "start_time": "2024-10-01T05:32:22.827463Z"
    }
   },
   "outputs": [
    {
     "name": "stdout",
     "output_type": "stream",
     "text": [
      "Accuracy: 0.97\n"
     ]
    }
   ],
   "source": [
    "accuracy = accuracy_score(y_test, y_pred_svc)\n",
    "print(f\"Accuracy: {accuracy:.2f}\")"
   ]
  },
  {
   "cell_type": "markdown",
   "id": "fFXE6xDSa9vK",
   "metadata": {
    "id": "fFXE6xDSa9vK"
   },
   "source": [
    "## **Accuracy of SVC model : 0.97**\n"
   ]
  },
  {
   "cell_type": "markdown",
   "id": "TNxayO_VTbvP",
   "metadata": {
    "id": "TNxayO_VTbvP"
   },
   "source": [
    "## **Confusion Matrix for SVC**\n"
   ]
  },
  {
   "cell_type": "code",
   "execution_count": 43,
   "id": "px4KByjSTXxL",
   "metadata": {
    "colab": {
     "base_uri": "https://localhost:8080/",
     "height": 466
    },
    "id": "px4KByjSTXxL",
    "outputId": "43a41d7f-44aa-469b-e8b4-dc33731ef020",
    "ExecuteTime": {
     "end_time": "2024-10-01T05:32:23.015414Z",
     "start_time": "2024-10-01T05:32:22.843100Z"
    }
   },
   "outputs": [
    {
     "data": {
      "text/plain": "<sklearn.metrics._plot.confusion_matrix.ConfusionMatrixDisplay at 0x1f693497100>"
     },
     "execution_count": 43,
     "metadata": {},
     "output_type": "execute_result"
    },
    {
     "data": {
      "text/plain": "<Figure size 640x480 with 2 Axes>",
      "image/png": "[encoded data removed]"
     },
     "metadata": {},
     "output_type": "display_data"
    }
   ],
   "source": [
    "cm = confusion_matrix(y_test,y_pred_lr)\n",
    "disp = metrics.ConfusionMatrixDisplay(confusion_matrix=cm)\n",
    "disp.plot()"
   ]
  },
  {
   "cell_type": "markdown",
   "id": "DU-HDvU4bGFv",
   "metadata": {
    "id": "DU-HDvU4bGFv"
   },
   "source": [
    "---\n",
    "---\n"
   ]
  },
  {
   "cell_type": "markdown",
   "id": "krOI86DsT18L",
   "metadata": {
    "id": "krOI86DsT18L"
   },
   "source": [
    "# **3. XGBClassifier**\n"
   ]
  },
  {
   "cell_type": "markdown",
   "id": "64AOqYZ4VRai",
   "metadata": {
    "id": "64AOqYZ4VRai"
   },
   "source": [
    "### **First, we need to import the necessary library for XGBClassifier**\n"
   ]
  },
  {
   "cell_type": "code",
   "execution_count": 44,
   "id": "s7LpuJP2T1Zm",
   "metadata": {
    "id": "s7LpuJP2T1Zm",
    "ExecuteTime": {
     "end_time": "2024-10-01T05:32:23.171739Z",
     "start_time": "2024-10-01T05:32:23.015414Z"
    }
   },
   "outputs": [],
   "source": [
    "from xgboost import XGBClassifier"
   ]
  },
  {
   "cell_type": "markdown",
   "id": "52Zu7i79VEzu",
   "metadata": {
    "id": "52Zu7i79VEzu"
   },
   "source": [
    "### **Hyperparameter Tuning for XGBoost Classifier**\n"
   ]
  },
  {
   "cell_type": "markdown",
   "id": "euHhTELcVZZa",
   "metadata": {
    "id": "euHhTELcVZZa"
   },
   "source": [
    "### **We initialize the XGBoost classifier.**\n"
   ]
  },
  {
   "cell_type": "code",
   "execution_count": 45,
   "id": "WVNA5D3PUG2W",
   "metadata": {
    "id": "WVNA5D3PUG2W",
    "ExecuteTime": {
     "end_time": "2024-10-01T05:32:23.187378Z",
     "start_time": "2024-10-01T05:32:23.171739Z"
    }
   },
   "outputs": [],
   "source": [
    "xgb_classifier = XGBClassifier()"
   ]
  },
  {
   "cell_type": "markdown",
   "id": "l9ML4il2XWym",
   "metadata": {
    "id": "l9ML4il2XWym"
   },
   "source": [
    "### **We fit the model with the training data**\n"
   ]
  },
  {
   "cell_type": "code",
   "execution_count": 46,
   "id": "aMFy2bEBXSen",
   "metadata": {
    "colab": {
     "base_uri": "https://localhost:8080/",
     "height": 248
    },
    "id": "aMFy2bEBXSen",
    "outputId": "afc2e8d7-08e8-4f7d-d1a1-84047fd5b49e",
    "ExecuteTime": {
     "end_time": "2024-10-01T05:33:35.250525Z",
     "start_time": "2024-10-01T05:32:23.187378Z"
    }
   },
   "outputs": [
    {
     "data": {
      "text/plain": "XGBClassifier(base_score=None, booster=None, callbacks=None,\n              colsample_bylevel=None, colsample_bynode=None,\n              colsample_bytree=None, device=None, early_stopping_rounds=None,\n              enable_categorical=False, eval_metric=None, feature_types=None,\n              gamma=None, grow_policy=None, importance_type=None,\n              interaction_constraints=None, learning_rate=None, max_bin=None,\n              max_cat_threshold=None, max_cat_to_onehot=None,\n              max_delta_step=None, max_depth=None, max_leaves=None,\n              min_child_weight=None, missing=nan, monotone_constraints=None,\n              multi_strategy=None, n_estimators=None, n_jobs=None,\n              num_parallel_tree=None, random_state=None, ...)",
      "text/html": "<style>#sk-container-id-3 {\n  /* Definition of color scheme common for light and dark mode */\n  --sklearn-color-text: black;\n  --sklearn-color-line: gray;\n  /* Definition of color scheme for unfitted estimators */\n  --sklearn-color-unfitted-level-0: #fff5e6;\n  --sklearn-color-unfitted-level-1: #f6e4d2;\n  --sklearn-color-unfitted-level-2: #ffe0b3;\n  --sklearn-color-unfitted-level-3: chocolate;\n  /* Definition of color scheme for fitted estimators */\n  --sklearn-color-fitted-level-0: #f0f8ff;\n  --sklearn-color-fitted-level-1: #d4ebff;\n  --sklearn-color-fitted-level-2: #b3dbfd;\n  --sklearn-color-fitted-level-3: cornflowerblue;\n\n  /* Specific color for light theme */\n  --sklearn-color-text-on-default-background: var(--sg-text-color, var(--theme-code-foreground, var(--jp-content-font-color1, black)));\n  --sklearn-color-background: var(--sg-background-color, var(--theme-background, var(--jp-layout-color0, white)));\n  --sklearn-color-border-box: var(--sg-text-color, var(--theme-code-foreground, var(--jp-content-font-color1, black)));\n  --sklearn-color-icon: #696969;\n\n  @media (prefers-color-scheme: dark) {\n    /* Redefinition of color scheme for dark theme */\n    --sklearn-color-text-on-default-background: var(--sg-text-color, var(--theme-code-foreground, var(--jp-content-font-color1, white)));\n    --sklearn-color-background: var(--sg-background-color, var(--theme-background, var(--jp-layout-color0, #111)));\n    --sklearn-color-border-box: var(--sg-text-color, var(--theme-code-foreground, var(--jp-content-font-color1, white)));\n    --sklearn-color-icon: #878787;\n  }\n}\n\n#sk-container-id-3 {\n  color: var(--sklearn-color-text);\n}\n\n#sk-container-id-3 pre {\n  padding: 0;\n}\n\n#sk-container-id-3 input.sk-hidden--visually {\n  border: 0;\n  clip: rect(1px 1px 1px 1px);\n  clip: rect(1px, 1px, 1px, 1px);\n  height: 1px;\n  margin: -1px;\n  overflow: hidden;\n  padding: 0;\n  position: absolute;\n  width: 1px;\n}\n\n#sk-container-id-3 div.sk-dashed-wrapped {\n  border: 1px dashed var(--sklearn-color-line);\n  margin: 0 0.4em 0.5em 0.4em;\n  box-sizing: border-box;\n  padding-bottom: 0.4em;\n  background-color: var(--sklearn-color-background);\n}\n\n#sk-container-id-3 div.sk-container {\n  /* jupyter's `normalize.less` sets `[hidden] { display: none; }`\n     but bootstrap.min.css set `[hidden] { display: none !important; }`\n     so we also need the `!important` here to be able to override the\n     default hidden behavior on the sphinx rendered scikit-learn.org.\n     See: https://github.com/scikit-learn/scikit-learn/issues/21755 */\n  display: inline-block !important;\n  position: relative;\n}\n\n#sk-container-id-3 div.sk-text-repr-fallback {\n  display: none;\n}\n\ndiv.sk-parallel-item,\ndiv.sk-serial,\ndiv.sk-item {\n  /* draw centered vertical line to link estimators */\n  background-image: linear-gradient(var(--sklearn-color-text-on-default-background), var(--sklearn-color-text-on-default-background));\n  background-size: 2px 100%;\n  background-repeat: no-repeat;\n  background-position: center center;\n}\n\n/* Parallel-specific style estimator block */\n\n#sk-container-id-3 div.sk-parallel-item::after {\n  content: \"\";\n  width: 100%;\n  border-bottom: 2px solid var(--sklearn-color-text-on-default-background);\n  flex-grow: 1;\n}\n\n#sk-container-id-3 div.sk-parallel {\n  display: flex;\n  align-items: stretch;\n  justify-content: center;\n  background-color: var(--sklearn-color-background);\n  position: relative;\n}\n\n#sk-container-id-3 div.sk-parallel-item {\n  display: flex;\n  flex-direction: column;\n}\n\n#sk-container-id-3 div.sk-parallel-item:first-child::after {\n  align-self: flex-end;\n  width: 50%;\n}\n\n#sk-container-id-3 div.sk-parallel-item:last-child::after {\n  align-self: flex-start;\n  width: 50%;\n}\n\n#sk-container-id-3 div.sk-parallel-item:only-child::after {\n  width: 0;\n}\n\n/* Serial-specific style estimator block */\n\n#sk-container-id-3 div.sk-serial {\n  display: flex;\n  flex-direction: column;\n  align-items: center;\n  background-color: var(--sklearn-color-background);\n  padding-right: 1em;\n  padding-left: 1em;\n}\n\n\n/* Toggleable style: style used for estimator/Pipeline/ColumnTransformer box that is\nclickable and can be expanded/collapsed.\n- Pipeline and ColumnTransformer use this feature and define the default style\n- Estimators will overwrite some part of the style using the `sk-estimator` class\n*/\n\n/* Pipeline and ColumnTransformer style (default) */\n\n#sk-container-id-3 div.sk-toggleable {\n  /* Default theme specific background. It is overwritten whether we have a\n  specific estimator or a Pipeline/ColumnTransformer */\n  background-color: var(--sklearn-color-background);\n}\n\n/* Toggleable label */\n#sk-container-id-3 label.sk-toggleable__label {\n  cursor: pointer;\n  display: block;\n  width: 100%;\n  margin-bottom: 0;\n  padding: 0.5em;\n  box-sizing: border-box;\n  text-align: center;\n}\n\n#sk-container-id-3 label.sk-toggleable__label-arrow:before {\n  /* Arrow on the left of the label */\n  content: \"▸\";\n  float: left;\n  margin-right: 0.25em;\n  color: var(--sklearn-color-icon);\n}\n\n#sk-container-id-3 label.sk-toggleable__label-arrow:hover:before {\n  color: var(--sklearn-color-text);\n}\n\n/* Toggleable content - dropdown */\n\n#sk-container-id-3 div.sk-toggleable__content {\n  max-height: 0;\n  max-width: 0;\n  overflow: hidden;\n  text-align: left;\n  /* unfitted */\n  background-color: var(--sklearn-color-unfitted-level-0);\n}\n\n#sk-container-id-3 div.sk-toggleable__content.fitted {\n  /* fitted */\n  background-color: var(--sklearn-color-fitted-level-0);\n}\n\n#sk-container-id-3 div.sk-toggleable__content pre {\n  margin: 0.2em;\n  border-radius: 0.25em;\n  color: var(--sklearn-color-text);\n  /* unfitted */\n  background-color: var(--sklearn-color-unfitted-level-0);\n}\n\n#sk-container-id-3 div.sk-toggleable__content.fitted pre {\n  /* unfitted */\n  background-color: var(--sklearn-color-fitted-level-0);\n}\n\n#sk-container-id-3 input.sk-toggleable__control:checked~div.sk-toggleable__content {\n  /* Expand drop-down */\n  max-height: 200px;\n  max-width: 100%;\n  overflow: auto;\n}\n\n#sk-container-id-3 input.sk-toggleable__control:checked~label.sk-toggleable__label-arrow:before {\n  content: \"▾\";\n}\n\n/* Pipeline/ColumnTransformer-specific style */\n\n#sk-container-id-3 div.sk-label input.sk-toggleable__control:checked~label.sk-toggleable__label {\n  color: var(--sklearn-color-text);\n  background-color: var(--sklearn-color-unfitted-level-2);\n}\n\n#sk-container-id-3 div.sk-label.fitted input.sk-toggleable__control:checked~label.sk-toggleable__label {\n  background-color: var(--sklearn-color-fitted-level-2);\n}\n\n/* Estimator-specific style */\n\n/* Colorize estimator box */\n#sk-container-id-3 div.sk-estimator input.sk-toggleable__control:checked~label.sk-toggleable__label {\n  /* unfitted */\n  background-color: var(--sklearn-color-unfitted-level-2);\n}\n\n#sk-container-id-3 div.sk-estimator.fitted input.sk-toggleable__control:checked~label.sk-toggleable__label {\n  /* fitted */\n  background-color: var(--sklearn-color-fitted-level-2);\n}\n\n#sk-container-id-3 div.sk-label label.sk-toggleable__label,\n#sk-container-id-3 div.sk-label label {\n  /* The background is the default theme color */\n  color: var(--sklearn-color-text-on-default-background);\n}\n\n/* On hover, darken the color of the background */\n#sk-container-id-3 div.sk-label:hover label.sk-toggleable__label {\n  color: var(--sklearn-color-text);\n  background-color: var(--sklearn-color-unfitted-level-2);\n}\n\n/* Label box, darken color on hover, fitted */\n#sk-container-id-3 div.sk-label.fitted:hover label.sk-toggleable__label.fitted {\n  color: var(--sklearn-color-text);\n  background-color: var(--sklearn-color-fitted-level-2);\n}\n\n/* Estimator label */\n\n#sk-container-id-3 div.sk-label label {\n  font-family: monospace;\n  font-weight: bold;\n  display: inline-block;\n  line-height: 1.2em;\n}\n\n#sk-container-id-3 div.sk-label-container {\n  text-align: center;\n}\n\n/* Estimator-specific */\n#sk-container-id-3 div.sk-estimator {\n  font-family: monospace;\n  border: 1px dotted var(--sklearn-color-border-box);\n  border-radius: 0.25em;\n  box-sizing: border-box;\n  margin-bottom: 0.5em;\n  /* unfitted */\n  background-color: var(--sklearn-color-unfitted-level-0);\n}\n\n#sk-container-id-3 div.sk-estimator.fitted {\n  /* fitted */\n  background-color: var(--sklearn-color-fitted-level-0);\n}\n\n/* on hover */\n#sk-container-id-3 div.sk-estimator:hover {\n  /* unfitted */\n  background-color: var(--sklearn-color-unfitted-level-2);\n}\n\n#sk-container-id-3 div.sk-estimator.fitted:hover {\n  /* fitted */\n  background-color: var(--sklearn-color-fitted-level-2);\n}\n\n/* Specification for estimator info (e.g. \"i\" and \"?\") */\n\n/* Common style for \"i\" and \"?\" */\n\n.sk-estimator-doc-link,\na:link.sk-estimator-doc-link,\na:visited.sk-estimator-doc-link {\n  float: right;\n  font-size: smaller;\n  line-height: 1em;\n  font-family: monospace;\n  background-color: var(--sklearn-color-background);\n  border-radius: 1em;\n  height: 1em;\n  width: 1em;\n  text-decoration: none !important;\n  margin-left: 1ex;\n  /* unfitted */\n  border: var(--sklearn-color-unfitted-level-1) 1pt solid;\n  color: var(--sklearn-color-unfitted-level-1);\n}\n\n.sk-estimator-doc-link.fitted,\na:link.sk-estimator-doc-link.fitted,\na:visited.sk-estimator-doc-link.fitted {\n  /* fitted */\n  border: var(--sklearn-color-fitted-level-1) 1pt solid;\n  color: var(--sklearn-color-fitted-level-1);\n}\n\n/* On hover */\ndiv.sk-estimator:hover .sk-estimator-doc-link:hover,\n.sk-estimator-doc-link:hover,\ndiv.sk-label-container:hover .sk-estimator-doc-link:hover,\n.sk-estimator-doc-link:hover {\n  /* unfitted */\n  background-color: var(--sklearn-color-unfitted-level-3);\n  color: var(--sklearn-color-background);\n  text-decoration: none;\n}\n\ndiv.sk-estimator.fitted:hover .sk-estimator-doc-link.fitted:hover,\n.sk-estimator-doc-link.fitted:hover,\ndiv.sk-label-container:hover .sk-estimator-doc-link.fitted:hover,\n.sk-estimator-doc-link.fitted:hover {\n  /* fitted */\n  background-color: var(--sklearn-color-fitted-level-3);\n  color: var(--sklearn-color-background);\n  text-decoration: none;\n}\n\n/* Span, style for the box shown on hovering the info icon */\n.sk-estimator-doc-link span {\n  display: none;\n  z-index: 9999;\n  position: relative;\n  font-weight: normal;\n  right: .2ex;\n  padding: .5ex;\n  margin: .5ex;\n  width: min-content;\n  min-width: 20ex;\n  max-width: 50ex;\n  color: var(--sklearn-color-text);\n  box-shadow: 2pt 2pt 4pt #999;\n  /* unfitted */\n  background: var(--sklearn-color-unfitted-level-0);\n  border: .5pt solid var(--sklearn-color-unfitted-level-3);\n}\n\n.sk-estimator-doc-link.fitted span {\n  /* fitted */\n  background: var(--sklearn-color-fitted-level-0);\n  border: var(--sklearn-color-fitted-level-3);\n}\n\n.sk-estimator-doc-link:hover span {\n  display: block;\n}\n\n/* \"?\"-specific style due to the `<a>` HTML tag */\n\n#sk-container-id-3 a.estimator_doc_link {\n  float: right;\n  font-size: 1rem;\n  line-height: 1em;\n  font-family: monospace;\n  background-color: var(--sklearn-color-background);\n  border-radius: 1rem;\n  height: 1rem;\n  width: 1rem;\n  text-decoration: none;\n  /* unfitted */\n  color: var(--sklearn-color-unfitted-level-1);\n  border: var(--sklearn-color-unfitted-level-1) 1pt solid;\n}\n\n#sk-container-id-3 a.estimator_doc_link.fitted {\n  /* fitted */\n  border: var(--sklearn-color-fitted-level-1) 1pt solid;\n  color: var(--sklearn-color-fitted-level-1);\n}\n\n/* On hover */\n#sk-container-id-3 a.estimator_doc_link:hover {\n  /* unfitted */\n  background-color: var(--sklearn-color-unfitted-level-3);\n  color: var(--sklearn-color-background);\n  text-decoration: none;\n}\n\n#sk-container-id-3 a.estimator_doc_link.fitted:hover {\n  /* fitted */\n  background-color: var(--sklearn-color-fitted-level-3);\n}\n</style><div id=\"sk-container-id-3\" class=\"sk-top-container\"><div class=\"sk-text-repr-fallback\"><pre>XGBClassifier(base_score=None, booster=None, callbacks=None,\n              colsample_bylevel=None, colsample_bynode=None,\n              colsample_bytree=None, device=None, early_stopping_rounds=None,\n              enable_categorical=False, eval_metric=None, feature_types=None,\n              gamma=None, grow_policy=None, importance_type=None,\n              interaction_constraints=None, learning_rate=None, max_bin=None,\n              max_cat_threshold=None, max_cat_to_onehot=None,\n              max_delta_step=None, max_depth=None, max_leaves=None,\n              min_child_weight=None, missing=nan, monotone_constraints=None,\n              multi_strategy=None, n_estimators=None, n_jobs=None,\n              num_parallel_tree=None, random_state=None, ...)</pre><b>In a Jupyter environment, please rerun this cell to show the HTML representation or trust the notebook. <br />On GitHub, the HTML representation is unable to render, please try loading this page with nbviewer.org.</b></div><div class=\"sk-container\" hidden><div class=\"sk-item\"><div class=\"sk-estimator fitted sk-toggleable\"><input class=\"sk-toggleable__control sk-hidden--visually\" id=\"sk-estimator-id-5\" type=\"checkbox\" checked><label for=\"sk-estimator-id-5\" class=\"sk-toggleable__label fitted sk-toggleable__label-arrow fitted\">&nbsp;XGBClassifier<span class=\"sk-estimator-doc-link fitted\">i<span>Fitted</span></span></label><div class=\"sk-toggleable__content fitted\"><pre>XGBClassifier(base_score=None, booster=None, callbacks=None,\n              colsample_bylevel=None, colsample_bynode=None,\n              colsample_bytree=None, device=None, early_stopping_rounds=None,\n              enable_categorical=False, eval_metric=None, feature_types=None,\n              gamma=None, grow_policy=None, importance_type=None,\n              interaction_constraints=None, learning_rate=None, max_bin=None,\n              max_cat_threshold=None, max_cat_to_onehot=None,\n              max_delta_step=None, max_depth=None, max_leaves=None,\n              min_child_weight=None, missing=nan, monotone_constraints=None,\n              multi_strategy=None, n_estimators=None, n_jobs=None,\n              num_parallel_tree=None, random_state=None, ...)</pre></div> </div></div></div></div>"
     },
     "execution_count": 46,
     "metadata": {},
     "output_type": "execute_result"
    }
   ],
   "source": [
    "xgb_classifier.fit(x_train_tfidf,y_train)"
   ]
  },
  {
   "cell_type": "code",
   "execution_count": 47,
   "id": "H5CLHt66URuD",
   "metadata": {
    "id": "H5CLHt66URuD",
    "ExecuteTime": {
     "end_time": "2024-10-01T05:33:35.547324Z",
     "start_time": "2024-10-01T05:33:35.250525Z"
    }
   },
   "outputs": [],
   "source": [
    "y_pred_xgb = xgb_classifier.predict(x_test_tfidf)"
   ]
  },
  {
   "cell_type": "code",
   "execution_count": 48,
   "id": "48fifZXEV_xi",
   "metadata": {
    "colab": {
     "base_uri": "https://localhost:8080/"
    },
    "id": "48fifZXEV_xi",
    "outputId": "09032f5c-5c98-4aab-e305-89f7213ab3fb",
    "ExecuteTime": {
     "end_time": "2024-10-01T05:33:35.594199Z",
     "start_time": "2024-10-01T05:33:35.547324Z"
    }
   },
   "outputs": [
    {
     "name": "stdout",
     "output_type": "stream",
     "text": [
      "              precision    recall  f1-score   support\n",
      "\n",
      "           0       0.99      0.94      0.96      8383\n",
      "           1       0.96      0.99      0.97     11940\n",
      "\n",
      "    accuracy                           0.97     20323\n",
      "   macro avg       0.97      0.97      0.97     20323\n",
      "weighted avg       0.97      0.97      0.97     20323\n"
     ]
    }
   ],
   "source": [
    "print(classification_report(y_test, y_pred_xgb))"
   ]
  },
  {
   "cell_type": "code",
   "execution_count": 49,
   "id": "TuV4oFnnUT9X",
   "metadata": {
    "colab": {
     "base_uri": "https://localhost:8080/"
    },
    "id": "TuV4oFnnUT9X",
    "outputId": "0d680e39-3607-4d0c-f58f-c2c60db37189",
    "ExecuteTime": {
     "end_time": "2024-10-01T05:33:35.609823Z",
     "start_time": "2024-10-01T05:33:35.594199Z"
    }
   },
   "outputs": [
    {
     "name": "stdout",
     "output_type": "stream",
     "text": [
      "Accuracy: 0.9700831570142203\n"
     ]
    }
   ],
   "source": [
    "accuracy = accuracy_score(y_test, y_pred_xgb)\n",
    "print(f'Accuracy: {accuracy}')"
   ]
  },
  {
   "cell_type": "markdown",
   "id": "DZZzD_vpWFPZ",
   "metadata": {
    "id": "DZZzD_vpWFPZ"
   },
   "source": [
    "### **Accuracy of XGBClassifier : 0.97**\n"
   ]
  },
  {
   "cell_type": "markdown",
   "id": "hhL3vWyhY5Pa",
   "metadata": {
    "id": "hhL3vWyhY5Pa"
   },
   "source": [
    "---\n",
    "---\n"
   ]
  },
  {
   "cell_type": "markdown",
   "id": "EtGJ-NwmZPdK",
   "metadata": {
    "id": "EtGJ-NwmZPdK"
   },
   "source": [
    "# **4. Naive Nayes**\n"
   ]
  },
  {
   "cell_type": "markdown",
   "id": "GFOK4gxvZVVi",
   "metadata": {
    "id": "GFOK4gxvZVVi"
   },
   "source": [
    "### **First, we need to import the necessary library for Naive Bayes**\n"
   ]
  },
  {
   "cell_type": "code",
   "execution_count": 50,
   "id": "50XDzrb5Y4fu",
   "metadata": {
    "id": "50XDzrb5Y4fu",
    "ExecuteTime": {
     "end_time": "2024-10-01T05:33:35.625448Z",
     "start_time": "2024-10-01T05:33:35.609823Z"
    }
   },
   "outputs": [],
   "source": [
    "from sklearn.naive_bayes import MultinomialNB"
   ]
  },
  {
   "cell_type": "markdown",
   "id": "9kHy5Ab7ZZha",
   "metadata": {
    "id": "9kHy5Ab7ZZha"
   },
   "source": [
    "### **We initialize the Naive bayes clasifier.**\n"
   ]
  },
  {
   "cell_type": "code",
   "execution_count": 51,
   "id": "tDxk269PUV_i",
   "metadata": {
    "id": "tDxk269PUV_i",
    "ExecuteTime": {
     "end_time": "2024-10-01T05:33:35.641074Z",
     "start_time": "2024-10-01T05:33:35.625448Z"
    }
   },
   "outputs": [],
   "source": [
    "nb = MultinomialNB()"
   ]
  },
  {
   "cell_type": "markdown",
   "id": "0xsJYTS8Zl8C",
   "metadata": {
    "id": "0xsJYTS8Zl8C"
   },
   "source": [
    "### **We fit the model with the training data**\n"
   ]
  },
  {
   "cell_type": "code",
   "execution_count": 52,
   "id": "wuJPMrHGZjfv",
   "metadata": {
    "colab": {
     "base_uri": "https://localhost:8080/",
     "height": 74
    },
    "id": "wuJPMrHGZjfv",
    "outputId": "ea7941cd-3fe7-45e6-f872-5318166f4296",
    "ExecuteTime": {
     "end_time": "2024-10-01T05:33:35.734902Z",
     "start_time": "2024-10-01T05:33:35.641074Z"
    }
   },
   "outputs": [
    {
     "data": {
      "text/plain": "MultinomialNB()",
      "text/html": "<style>#sk-container-id-4 {\n  /* Definition of color scheme common for light and dark mode */\n  --sklearn-color-text: black;\n  --sklearn-color-line: gray;\n  /* Definition of color scheme for unfitted estimators */\n  --sklearn-color-unfitted-level-0: #fff5e6;\n  --sklearn-color-unfitted-level-1: #f6e4d2;\n  --sklearn-color-unfitted-level-2: #ffe0b3;\n  --sklearn-color-unfitted-level-3: chocolate;\n  /* Definition of color scheme for fitted estimators */\n  --sklearn-color-fitted-level-0: #f0f8ff;\n  --sklearn-color-fitted-level-1: #d4ebff;\n  --sklearn-color-fitted-level-2: #b3dbfd;\n  --sklearn-color-fitted-level-3: cornflowerblue;\n\n  /* Specific color for light theme */\n  --sklearn-color-text-on-default-background: var(--sg-text-color, var(--theme-code-foreground, var(--jp-content-font-color1, black)));\n  --sklearn-color-background: var(--sg-background-color, var(--theme-background, var(--jp-layout-color0, white)));\n  --sklearn-color-border-box: var(--sg-text-color, var(--theme-code-foreground, var(--jp-content-font-color1, black)));\n  --sklearn-color-icon: #696969;\n\n  @media (prefers-color-scheme: dark) {\n    /* Redefinition of color scheme for dark theme */\n    --sklearn-color-text-on-default-background: var(--sg-text-color, var(--theme-code-foreground, var(--jp-content-font-color1, white)));\n    --sklearn-color-background: var(--sg-background-color, var(--theme-background, var(--jp-layout-color0, #111)));\n    --sklearn-color-border-box: var(--sg-text-color, var(--theme-code-foreground, var(--jp-content-font-color1, white)));\n    --sklearn-color-icon: #878787;\n  }\n}\n\n#sk-container-id-4 {\n  color: var(--sklearn-color-text);\n}\n\n#sk-container-id-4 pre {\n  padding: 0;\n}\n\n#sk-container-id-4 input.sk-hidden--visually {\n  border: 0;\n  clip: rect(1px 1px 1px 1px);\n  clip: rect(1px, 1px, 1px, 1px);\n  height: 1px;\n  margin: -1px;\n  overflow: hidden;\n  padding: 0;\n  position: absolute;\n  width: 1px;\n}\n\n#sk-container-id-4 div.sk-dashed-wrapped {\n  border: 1px dashed var(--sklearn-color-line);\n  margin: 0 0.4em 0.5em 0.4em;\n  box-sizing: border-box;\n  padding-bottom: 0.4em;\n  background-color: var(--sklearn-color-background);\n}\n\n#sk-container-id-4 div.sk-container {\n  /* jupyter's `normalize.less` sets `[hidden] { display: none; }`\n     but bootstrap.min.css set `[hidden] { display: none !important; }`\n     so we also need the `!important` here to be able to override the\n     default hidden behavior on the sphinx rendered scikit-learn.org.\n     See: https://github.com/scikit-learn/scikit-learn/issues/21755 */\n  display: inline-block !important;\n  position: relative;\n}\n\n#sk-container-id-4 div.sk-text-repr-fallback {\n  display: none;\n}\n\ndiv.sk-parallel-item,\ndiv.sk-serial,\ndiv.sk-item {\n  /* draw centered vertical line to link estimators */\n  background-image: linear-gradient(var(--sklearn-color-text-on-default-background), var(--sklearn-color-text-on-default-background));\n  background-size: 2px 100%;\n  background-repeat: no-repeat;\n  background-position: center center;\n}\n\n/* Parallel-specific style estimator block */\n\n#sk-container-id-4 div.sk-parallel-item::after {\n  content: \"\";\n  width: 100%;\n  border-bottom: 2px solid var(--sklearn-color-text-on-default-background);\n  flex-grow: 1;\n}\n\n#sk-container-id-4 div.sk-parallel {\n  display: flex;\n  align-items: stretch;\n  justify-content: center;\n  background-color: var(--sklearn-color-background);\n  position: relative;\n}\n\n#sk-container-id-4 div.sk-parallel-item {\n  display: flex;\n  flex-direction: column;\n}\n\n#sk-container-id-4 div.sk-parallel-item:first-child::after {\n  align-self: flex-end;\n  width: 50%;\n}\n\n#sk-container-id-4 div.sk-parallel-item:last-child::after {\n  align-self: flex-start;\n  width: 50%;\n}\n\n#sk-container-id-4 div.sk-parallel-item:only-child::after {\n  width: 0;\n}\n\n/* Serial-specific style estimator block */\n\n#sk-container-id-4 div.sk-serial {\n  display: flex;\n  flex-direction: column;\n  align-items: center;\n  background-color: var(--sklearn-color-background);\n  padding-right: 1em;\n  padding-left: 1em;\n}\n\n\n/* Toggleable style: style used for estimator/Pipeline/ColumnTransformer box that is\nclickable and can be expanded/collapsed.\n- Pipeline and ColumnTransformer use this feature and define the default style\n- Estimators will overwrite some part of the style using the `sk-estimator` class\n*/\n\n/* Pipeline and ColumnTransformer style (default) */\n\n#sk-container-id-4 div.sk-toggleable {\n  /* Default theme specific background. It is overwritten whether we have a\n  specific estimator or a Pipeline/ColumnTransformer */\n  background-color: var(--sklearn-color-background);\n}\n\n/* Toggleable label */\n#sk-container-id-4 label.sk-toggleable__label {\n  cursor: pointer;\n  display: block;\n  width: 100%;\n  margin-bottom: 0;\n  padding: 0.5em;\n  box-sizing: border-box;\n  text-align: center;\n}\n\n#sk-container-id-4 label.sk-toggleable__label-arrow:before {\n  /* Arrow on the left of the label */\n  content: \"▸\";\n  float: left;\n  margin-right: 0.25em;\n  color: var(--sklearn-color-icon);\n}\n\n#sk-container-id-4 label.sk-toggleable__label-arrow:hover:before {\n  color: var(--sklearn-color-text);\n}\n\n/* Toggleable content - dropdown */\n\n#sk-container-id-4 div.sk-toggleable__content {\n  max-height: 0;\n  max-width: 0;\n  overflow: hidden;\n  text-align: left;\n  /* unfitted */\n  background-color: var(--sklearn-color-unfitted-level-0);\n}\n\n#sk-container-id-4 div.sk-toggleable__content.fitted {\n  /* fitted */\n  background-color: var(--sklearn-color-fitted-level-0);\n}\n\n#sk-container-id-4 div.sk-toggleable__content pre {\n  margin: 0.2em;\n  border-radius: 0.25em;\n  color: var(--sklearn-color-text);\n  /* unfitted */\n  background-color: var(--sklearn-color-unfitted-level-0);\n}\n\n#sk-container-id-4 div.sk-toggleable__content.fitted pre {\n  /* unfitted */\n  background-color: var(--sklearn-color-fitted-level-0);\n}\n\n#sk-container-id-4 input.sk-toggleable__control:checked~div.sk-toggleable__content {\n  /* Expand drop-down */\n  max-height: 200px;\n  max-width: 100%;\n  overflow: auto;\n}\n\n#sk-container-id-4 input.sk-toggleable__control:checked~label.sk-toggleable__label-arrow:before {\n  content: \"▾\";\n}\n\n/* Pipeline/ColumnTransformer-specific style */\n\n#sk-container-id-4 div.sk-label input.sk-toggleable__control:checked~label.sk-toggleable__label {\n  color: var(--sklearn-color-text);\n  background-color: var(--sklearn-color-unfitted-level-2);\n}\n\n#sk-container-id-4 div.sk-label.fitted input.sk-toggleable__control:checked~label.sk-toggleable__label {\n  background-color: var(--sklearn-color-fitted-level-2);\n}\n\n/* Estimator-specific style */\n\n/* Colorize estimator box */\n#sk-container-id-4 div.sk-estimator input.sk-toggleable__control:checked~label.sk-toggleable__label {\n  /* unfitted */\n  background-color: var(--sklearn-color-unfitted-level-2);\n}\n\n#sk-container-id-4 div.sk-estimator.fitted input.sk-toggleable__control:checked~label.sk-toggleable__label {\n  /* fitted */\n  background-color: var(--sklearn-color-fitted-level-2);\n}\n\n#sk-container-id-4 div.sk-label label.sk-toggleable__label,\n#sk-container-id-4 div.sk-label label {\n  /* The background is the default theme color */\n  color: var(--sklearn-color-text-on-default-background);\n}\n\n/* On hover, darken the color of the background */\n#sk-container-id-4 div.sk-label:hover label.sk-toggleable__label {\n  color: var(--sklearn-color-text);\n  background-color: var(--sklearn-color-unfitted-level-2);\n}\n\n/* Label box, darken color on hover, fitted */\n#sk-container-id-4 div.sk-label.fitted:hover label.sk-toggleable__label.fitted {\n  color: var(--sklearn-color-text);\n  background-color: var(--sklearn-color-fitted-level-2);\n}\n\n/* Estimator label */\n\n#sk-container-id-4 div.sk-label label {\n  font-family: monospace;\n  font-weight: bold;\n  display: inline-block;\n  line-height: 1.2em;\n}\n\n#sk-container-id-4 div.sk-label-container {\n  text-align: center;\n}\n\n/* Estimator-specific */\n#sk-container-id-4 div.sk-estimator {\n  font-family: monospace;\n  border: 1px dotted var(--sklearn-color-border-box);\n  border-radius: 0.25em;\n  box-sizing: border-box;\n  margin-bottom: 0.5em;\n  /* unfitted */\n  background-color: var(--sklearn-color-unfitted-level-0);\n}\n\n#sk-container-id-4 div.sk-estimator.fitted {\n  /* fitted */\n  background-color: var(--sklearn-color-fitted-level-0);\n}\n\n/* on hover */\n#sk-container-id-4 div.sk-estimator:hover {\n  /* unfitted */\n  background-color: var(--sklearn-color-unfitted-level-2);\n}\n\n#sk-container-id-4 div.sk-estimator.fitted:hover {\n  /* fitted */\n  background-color: var(--sklearn-color-fitted-level-2);\n}\n\n/* Specification for estimator info (e.g. \"i\" and \"?\") */\n\n/* Common style for \"i\" and \"?\" */\n\n.sk-estimator-doc-link,\na:link.sk-estimator-doc-link,\na:visited.sk-estimator-doc-link {\n  float: right;\n  font-size: smaller;\n  line-height: 1em;\n  font-family: monospace;\n  background-color: var(--sklearn-color-background);\n  border-radius: 1em;\n  height: 1em;\n  width: 1em;\n  text-decoration: none !important;\n  margin-left: 1ex;\n  /* unfitted */\n  border: var(--sklearn-color-unfitted-level-1) 1pt solid;\n  color: var(--sklearn-color-unfitted-level-1);\n}\n\n.sk-estimator-doc-link.fitted,\na:link.sk-estimator-doc-link.fitted,\na:visited.sk-estimator-doc-link.fitted {\n  /* fitted */\n  border: var(--sklearn-color-fitted-level-1) 1pt solid;\n  color: var(--sklearn-color-fitted-level-1);\n}\n\n/* On hover */\ndiv.sk-estimator:hover .sk-estimator-doc-link:hover,\n.sk-estimator-doc-link:hover,\ndiv.sk-label-container:hover .sk-estimator-doc-link:hover,\n.sk-estimator-doc-link:hover {\n  /* unfitted */\n  background-color: var(--sklearn-color-unfitted-level-3);\n  color: var(--sklearn-color-background);\n  text-decoration: none;\n}\n\ndiv.sk-estimator.fitted:hover .sk-estimator-doc-link.fitted:hover,\n.sk-estimator-doc-link.fitted:hover,\ndiv.sk-label-container:hover .sk-estimator-doc-link.fitted:hover,\n.sk-estimator-doc-link.fitted:hover {\n  /* fitted */\n  background-color: var(--sklearn-color-fitted-level-3);\n  color: var(--sklearn-color-background);\n  text-decoration: none;\n}\n\n/* Span, style for the box shown on hovering the info icon */\n.sk-estimator-doc-link span {\n  display: none;\n  z-index: 9999;\n  position: relative;\n  font-weight: normal;\n  right: .2ex;\n  padding: .5ex;\n  margin: .5ex;\n  width: min-content;\n  min-width: 20ex;\n  max-width: 50ex;\n  color: var(--sklearn-color-text);\n  box-shadow: 2pt 2pt 4pt #999;\n  /* unfitted */\n  background: var(--sklearn-color-unfitted-level-0);\n  border: .5pt solid var(--sklearn-color-unfitted-level-3);\n}\n\n.sk-estimator-doc-link.fitted span {\n  /* fitted */\n  background: var(--sklearn-color-fitted-level-0);\n  border: var(--sklearn-color-fitted-level-3);\n}\n\n.sk-estimator-doc-link:hover span {\n  display: block;\n}\n\n/* \"?\"-specific style due to the `<a>` HTML tag */\n\n#sk-container-id-4 a.estimator_doc_link {\n  float: right;\n  font-size: 1rem;\n  line-height: 1em;\n  font-family: monospace;\n  background-color: var(--sklearn-color-background);\n  border-radius: 1rem;\n  height: 1rem;\n  width: 1rem;\n  text-decoration: none;\n  /* unfitted */\n  color: var(--sklearn-color-unfitted-level-1);\n  border: var(--sklearn-color-unfitted-level-1) 1pt solid;\n}\n\n#sk-container-id-4 a.estimator_doc_link.fitted {\n  /* fitted */\n  border: var(--sklearn-color-fitted-level-1) 1pt solid;\n  color: var(--sklearn-color-fitted-level-1);\n}\n\n/* On hover */\n#sk-container-id-4 a.estimator_doc_link:hover {\n  /* unfitted */\n  background-color: var(--sklearn-color-unfitted-level-3);\n  color: var(--sklearn-color-background);\n  text-decoration: none;\n}\n\n#sk-container-id-4 a.estimator_doc_link.fitted:hover {\n  /* fitted */\n  background-color: var(--sklearn-color-fitted-level-3);\n}\n</style><div id=\"sk-container-id-4\" class=\"sk-top-container\"><div class=\"sk-text-repr-fallback\"><pre>MultinomialNB()</pre><b>In a Jupyter environment, please rerun this cell to show the HTML representation or trust the notebook. <br />On GitHub, the HTML representation is unable to render, please try loading this page with nbviewer.org.</b></div><div class=\"sk-container\" hidden><div class=\"sk-item\"><div class=\"sk-estimator fitted sk-toggleable\"><input class=\"sk-toggleable__control sk-hidden--visually\" id=\"sk-estimator-id-6\" type=\"checkbox\" checked><label for=\"sk-estimator-id-6\" class=\"sk-toggleable__label fitted sk-toggleable__label-arrow fitted\">&nbsp;&nbsp;MultinomialNB<a class=\"sk-estimator-doc-link fitted\" rel=\"noreferrer\" target=\"_blank\" href=\"https://scikit-learn.org/1.5/modules/generated/sklearn.naive_bayes.MultinomialNB.html\">?<span>Documentation for MultinomialNB</span></a><span class=\"sk-estimator-doc-link fitted\">i<span>Fitted</span></span></label><div class=\"sk-toggleable__content fitted\"><pre>MultinomialNB()</pre></div> </div></div></div></div>"
     },
     "execution_count": 52,
     "metadata": {},
     "output_type": "execute_result"
    }
   ],
   "source": [
    "nb.fit(x_train_tfidf,y_train)"
   ]
  },
  {
   "cell_type": "code",
   "execution_count": 53,
   "id": "PNxiEFQeZrxf",
   "metadata": {
    "id": "PNxiEFQeZrxf",
    "ExecuteTime": {
     "end_time": "2024-10-01T05:33:35.766075Z",
     "start_time": "2024-10-01T05:33:35.734902Z"
    }
   },
   "outputs": [],
   "source": [
    "y_pred_nb = nb.predict(x_test_tfidf)"
   ]
  },
  {
   "cell_type": "markdown",
   "id": "CXMW7_JpZ0ti",
   "metadata": {
    "id": "CXMW7_JpZ0ti"
   },
   "source": [
    "### **Classification report**\n"
   ]
  },
  {
   "cell_type": "code",
   "execution_count": 54,
   "id": "57Hw_26rZw8A",
   "metadata": {
    "colab": {
     "base_uri": "https://localhost:8080/"
    },
    "id": "57Hw_26rZw8A",
    "outputId": "b53fd496-38ab-41df-9d46-a2a2de3f7793",
    "ExecuteTime": {
     "end_time": "2024-10-01T05:33:35.813026Z",
     "start_time": "2024-10-01T05:33:35.766075Z"
    }
   },
   "outputs": [
    {
     "name": "stdout",
     "output_type": "stream",
     "text": [
      "              precision    recall  f1-score   support\n",
      "\n",
      "           0       0.95      0.87      0.91      8383\n",
      "           1       0.92      0.96      0.94     11940\n",
      "\n",
      "    accuracy                           0.93     20323\n",
      "   macro avg       0.93      0.92      0.92     20323\n",
      "weighted avg       0.93      0.93      0.93     20323\n"
     ]
    }
   ],
   "source": [
    "print(classification_report(y_test, y_pred_nb))"
   ]
  },
  {
   "cell_type": "code",
   "execution_count": 55,
   "id": "arLmR2aUZzAA",
   "metadata": {
    "colab": {
     "base_uri": "https://localhost:8080/"
    },
    "id": "arLmR2aUZzAA",
    "outputId": "3eed9163-2466-4bab-c431-4c7932e80df0",
    "ExecuteTime": {
     "end_time": "2024-10-01T05:33:35.828638Z",
     "start_time": "2024-10-01T05:33:35.813026Z"
    }
   },
   "outputs": [
    {
     "name": "stdout",
     "output_type": "stream",
     "text": [
      "Accuracy: 0.9273729272253112\n"
     ]
    }
   ],
   "source": [
    "accuracy = accuracy_score(y_test, y_pred_nb)\n",
    "print(f'Accuracy: {accuracy}')"
   ]
  },
  {
   "cell_type": "markdown",
   "id": "yU-1MeS5Z9hR",
   "metadata": {
    "id": "yU-1MeS5Z9hR"
   },
   "source": [
    "### **Accuracy of Naive Bayes Classifier : 0.93**\n"
   ]
  },
  {
   "cell_type": "markdown",
   "id": "iNQcPnPYaEZd",
   "metadata": {
    "id": "iNQcPnPYaEZd"
   },
   "source": [
    "## **Confusion Matrix For Naive Bayes**\n"
   ]
  },
  {
   "cell_type": "code",
   "execution_count": 56,
   "id": "-DJAAq1zZ7p2",
   "metadata": {
    "colab": {
     "base_uri": "https://localhost:8080/",
     "height": 466
    },
    "id": "-DJAAq1zZ7p2",
    "outputId": "e1b4b735-d8d9-45d9-a6e2-6e42ac04721a",
    "ExecuteTime": {
     "end_time": "2024-10-01T05:33:36.000491Z",
     "start_time": "2024-10-01T05:33:35.828638Z"
    }
   },
   "outputs": [
    {
     "data": {
      "text/plain": "<sklearn.metrics._plot.confusion_matrix.ConfusionMatrixDisplay at 0x1f69cdad090>"
     },
     "execution_count": 56,
     "metadata": {},
     "output_type": "execute_result"
    },
    {
     "data": {
      "text/plain": "<Figure size 640x480 with 2 Axes>",
      "image/png": "[encoded data removed]"
     },
     "metadata": {},
     "output_type": "display_data"
    }
   ],
   "source": [
    "cm = confusion_matrix(y_test,y_pred_nb)\n",
    "disp = metrics.ConfusionMatrixDisplay(confusion_matrix=cm)\n",
    "disp.plot()"
   ]
  },
  {
   "cell_type": "markdown",
   "id": "-thi34fyfyPh",
   "metadata": {
    "id": "-thi34fyfyPh"
   },
   "source": [
    "---\n",
    "---\n",
    "\n",
    "---\n"
   ]
  },
  {
   "cell_type": "markdown",
   "id": "VtP8hNpOehvT",
   "metadata": {
    "id": "VtP8hNpOehvT"
   },
   "source": [
    "## **<u>Conclusion</u>**\n",
    "\n",
    "### **In this project, we developed a fake news detection system using multiple machine learning models. We utilized logistic regression, support vector classifier (SVC), XGBoost classifier, and Naive Bayes classifier. After extensive evaluation, the performance of each model was as follows:**\n"
   ]
  },
  {
   "cell_type": "markdown",
   "id": "-dLj0pKtbAmA",
   "metadata": {
    "id": "-dLj0pKtbAmA"
   },
   "source": [
    "![export (1).png](data:image/png;base64,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)\n"
   ]
  },
  {
   "cell_type": "markdown",
   "id": "pL81Tfn8fCKw",
   "metadata": {
    "id": "pL81Tfn8fCKw"
   },
   "source": [
    "## **The logistic regression, SVC, and XGBoost classifier all achieved a high accuracy of 97%, indicating their effectiveness in detecting fake news. The Naive Bayes classifier, while slightly less accurate, still performed admirably with a 93% accuracy.**\n"
   ]
  },
  {
   "cell_type": "markdown",
   "id": "tqAbnL16fI4A",
   "metadata": {
    "id": "tqAbnL16fI4A"
   },
   "source": [
    "#### **_Overall, the results demonstrate that machine learning models, particularly logistic regression, SVC, and XGBoost, are highly capable of distinguishing between real and fake news. This project showcases the potential of these models to aid in combating the spread of misinformation, providing a reliable tool for fake news detection._**\n"
   ]
  }
 ],
 "metadata": {
  "colab": {
   "provenance": []
  },
  "kernelspec": {
   "display_name": "Python 3",
   "language": "python",
   "name": "python3"
  },
  "language_info": {
   "codemirror_mode": {
    "name": "ipython",
    "version": 3
   },
   "file_extension": ".py",
   "mimetype": "text/x-python",
   "name": "python",
   "nbconvert_exporter": "python",
   "pygments_lexer": "ipython3",
   "version": "3.11.5"
  }
 },
 "nbformat": 4,
 "nbformat_minor": 5
}
